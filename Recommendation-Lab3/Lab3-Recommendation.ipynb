{
  "cells": [
    {
      "cell_type": "markdown",
      "metadata": {
        "id": "9p4V680CkDk9"
      },
      "source": [
        "# The Movies Dataset TF-IDF Content-Based Recommendation"
      ]
    },
    {
      "cell_type": "markdown",
      "metadata": {
        "id": "6LjaWDDidlE0"
      },
      "source": [
        "### Набор данных"
      ]
    },
    {
      "cell_type": "markdown",
      "metadata": {
        "id": "bYr4k6hldlE1"
      },
      "source": [
        "Дан набор данных, содержащий информацию о 45,000 фильмах, выпущенных до июля 2017 года. Набор данных представлен на ресурсе Kaggle по ссылке https://www.kaggle.com/rounakbanik/the-movies-dataset\n",
        "где представлено следующее описание составляющих файлов (выполнен перевод на русский язык):"
      ]
    },
    {
      "cell_type": "markdown",
      "metadata": {
        "id": "X9NqoYy3kQHB"
      },
      "source": [
        "`movies_metadata.csv:` Основной файл метаданных фильмов. Содержит информацию о 45 000 фильмов, представленных в наборе данных Full MovieLens. В таблицы представлены плакаты, фоны, бюджет, доход, даты выпуска, языки, страны-производители и компании.\n",
        "\n",
        "`keywords.csv:` Содержит ключевые слова сюжета для наших фильмов MovieLens. Доступен в виде строкового объекта JSON.\n",
        "\n",
        "`credits.csv:` Состоит из информации об актерах и съемках всех наших фильмов. Доступен в виде строкового объекта JSON.\n",
        "\n",
        "`links.csv:` Файл содержит идентификаторы TMDB и IMDB всех фильмов, представленных в наборе данных Full MovieLens.\n",
        "\n",
        "`links_small.csv:` Содержит идентификаторы TMDB и IMDB небольшого подмножества из 9000 фильмов полного набора данных.\n",
        "\n",
        "`ratings_small.csv:` Подмножество 100 000 оценок от 700 пользователей на 9 000 фильмов.\n",
        "\n",
        "`ratings.csv `- файл, содержащий полный список оценок, выставленных пользователями фильмам\n",
        "\n"
      ]
    },
    {
      "cell_type": "markdown",
      "metadata": {
        "id": "Uw1KKxsgdlE4"
      },
      "source": [
        "Рассмотрим подробнее две таблицы:"
      ]
    },
    {
      "cell_type": "markdown",
      "metadata": {
        "id": "s2KeDbdAdlE4"
      },
      "source": [
        "*   `movies_metadata.csv `\n",
        "*   `ratings.csv `"
      ]
    },
    {
      "cell_type": "code",
      "execution_count": null,
      "metadata": {
        "id": "l7PzPczhAF63"
      },
      "outputs": [],
      "source": [
        "import pandas as pd\n",
        "import numpy as np"
      ]
    },
    {
      "cell_type": "code",
      "execution_count": null,
      "metadata": {
        "id": "aZyzhbwY5Y8Y"
      },
      "outputs": [],
      "source": [
        "#! pip install --upgrade --no-cache-dir gdown"
      ]
    },
    {
      "cell_type": "code",
      "execution_count": null,
      "metadata": {
        "id": "H0lOsH_JdvWk"
      },
      "outputs": [],
      "source": [
        "#!gdown 14LeiPV598IHba4rGi07mhfC7O2Iw-NoL"
      ]
    },
    {
      "cell_type": "code",
      "execution_count": null,
      "metadata": {
        "id": "ux-ilGHh75DD"
      },
      "outputs": [],
      "source": [
        "#!gdown 17nemNXYD8D_rNdWSgVbcBrrNAozxTWgg"
      ]
    },
    {
      "cell_type": "code",
      "execution_count": null,
      "metadata": {
        "id": "58lpgrhTIRSS"
      },
      "outputs": [],
      "source": [
        "#from google.colab import drive\n",
        "#drive.mount('/content/drive')"
      ]
    },
    {
      "cell_type": "markdown",
      "metadata": {
        "id": "7qhC1HNfsKQt"
      },
      "source": [
        "Начинаем с анализа датафрейма movies_metadata"
      ]
    },
    {
      "cell_type": "markdown",
      "metadata": {
        "id": "gV0jRXVz9lPU"
      },
      "source": [
        "## Задание 1"
      ]
    },
    {
      "cell_type": "code",
      "execution_count": null,
      "metadata": {
        "id": "RtWz_dIq355N"
      },
      "outputs": [],
      "source": [
        "metadata = pd.read_csv(filepath_or_buffer = \"movies_metadata.csv\")"
      ]
    },
    {
      "cell_type": "code",
      "execution_count": null,
      "metadata": {
        "id": "O5Mbl_fUZPDG"
      },
      "outputs": [],
      "source": [
        "metadata.info()"
      ]
    },
    {
      "cell_type": "markdown",
      "metadata": {
        "id": "ZUIzBKCL9o2O"
      },
      "source": [
        "Удалите из датафрейма metadata строки, в которых отсутствует описание. Обратите внимание, что у некоторых фильмов формально описание есть, но там написано No overview found, No overview, No movie overview available, Released. Такие строки тоже нужно удалить."
      ]
    },
    {
      "cell_type": "code",
      "execution_count": null,
      "metadata": {
        "id": "_1hhU_A3xu7x"
      },
      "outputs": [],
      "source": [
        "import string\n",
        "from nltk.tokenize import word_tokenize\n",
        "from nltk.corpus import stopwords\n",
        "stop = stopwords.words('english')"
      ]
    },
    {
      "cell_type": "code",
      "execution_count": null,
      "metadata": {
        "id": "0NCZckbVN-cy"
      },
      "outputs": [],
      "source": [
        "movies_df = metadata[~metadata['overview'].isna()]\n",
        "movies_df['overview_1'] = movies_df['overview']\n",
        "\n",
        "for ch in string.punctuation:\n",
        "  movies_df['overview_1'] = movies_df['overview_1'].apply(lambda x: x.replace(ch,\"\"))\n",
        "\n",
        "movies_df['overview_1'] = movies_df['overview_1'].apply(lambda x: x.lower())\n",
        "movies_df['overview_1'] = movies_df['overview_1'].apply(word_tokenize)\n",
        "movies_df['overview_1']  = movies_df['overview_1'].apply(lambda x: [word for word in x if word not in (stop)])"
      ]
    },
    {
      "cell_type": "code",
      "execution_count": null,
      "metadata": {
        "colab": {
          "base_uri": "https://localhost:8080/"
        },
        "id": "UwHbGHFfyyEf",
        "outputId": "43b86126-ab63-4591-f078-430a72aa04cc"
      },
      "outputs": [
        {
          "data": {
            "text/plain": [
              "0        [led, woody, andys, toys, live, happily, room,...\n",
              "1        [siblings, judy, peter, discover, enchanted, b...\n",
              "2        [family, wedding, reignites, ancient, feud, ne...\n",
              "3        [cheated, mistreated, stepped, women, holding,...\n",
              "4        [george, banks, recovered, daughters, wedding,...\n",
              "                               ...                        \n",
              "45461                        [rising, falling, man, woman]\n",
              "45462    [artist, struggles, finish, work, storyline, c...\n",
              "45463    [one, hits, goes, wrong, professional, assassi...\n",
              "45464    [small, town, live, two, brothers, one, minist...\n",
              "45465    [50, years, decriminalisation, homosexuality, ...\n",
              "Name: overview_1, Length: 44512, dtype: object"
            ]
          },
          "execution_count": 732,
          "metadata": {},
          "output_type": "execute_result"
        }
      ],
      "source": [
        "movies_df['overview_1']"
      ]
    },
    {
      "cell_type": "code",
      "execution_count": null,
      "metadata": {
        "colab": {
          "base_uri": "https://localhost:8080/"
        },
        "id": "lJw8P_F3tFrP",
        "outputId": "be51b91b-6e8c-4d77-fae3-8b246d892929"
      },
      "outputs": [
        {
          "data": {
            "text/plain": [
              "['No Overview',\n",
              " 'No overview',\n",
              " 'No overview.',\n",
              " 'no overview yet',\n",
              " 'No overview yet.',\n",
              " 'No overview found',\n",
              " 'No overview found.',\n",
              " 'No plot overview available',\n",
              " 'No movie overview available.',\n",
              " 'No movie overview available, please add one at themoviedb.org',\n",
              " \"An overview of the making of Terrence Malick's The New World (2005).\",\n",
              " 'An overview of the life of the most shocking, vile, and notorious of punk rock legends.',\n",
              " 'A sweeping overview of humanity’s accomplishments in space, as well as our ongoing activities and future plans.',\n",
              " 'Russell’s last DVD and CD, Outsourced, was taped before a sold out audience at the Warfield Theatre in San Francisco, and gives viewers and listeners an excellent overview of Russell’s comedic genius.',\n",
              " \"An overview of the early years--late 1970s, early 1980s--of San Francisco punk band Dead Kennedys, with clips from some of their live concerts and footage of landmark San Francisco locations of the punk music scene. Jello Biafra and The Dead Kennedys show why they're the kings of satire in 9 live early performances.\",\n",
              " \"David Attenborough's legendary BBC crew explains and shows wildlife all over planet earth in this 10-episode miniseries. The first is an overview the challenges facing life, the others are dedicated to hunting, the deep sea and various major evolutionary groups of creatures: plants, primates and other large sections of other vertebrates and invertebrates.\",\n",
              " 'A documentary miniseries described by its makers as \"the definitive look at the diversity of our planet\". Each 50 minute episode features a global overview of a different biome or habitat on Earth (Polar, Mountain, Cave, Desert, Plains, Fresh Water, Seas, Ocean, Forest), followed by a ten-minute featurette which takes a behind-the-scenes look at the challenges of filming the episode.',\n",
              " \"Scientist Doctor Who accidentally activates his new invention, the Tardis, a time machine disguised as a police telephone box. Doctor Who, his two grand-daughters, and Barbara's boyfriend Ian are transported through time and space to the planet Skaro, where a peaceful race of Thals are under threat of nuclear attack from the planet's other inhabitants: the robotic mutant Daleks. Overview Written by Alexander Lum\",\n",
              " 'This video shows how the foreign policy interests of American political elites-working in combination with Israeli public relations stratgies-influence US news reporting about the Middle East conflict. Combining American and British TV news clips with observations of analysts, journalists and political activists, Peace, Propaganda &amp; the Promised Land provides a brief historical overview, a striking media comparison, and an examination of factors that have distorted U.S. media coverage and, in turn, American public opinion.',\n",
              " 'Based on elements from the stories of Mark Twain, this feature-length Claymation fantasy follows the adventures of Tom Sawyer, Becky Thatcher and Huck Finn as they stowaway aboard the interplanetary balloon of Mark Twain. Twain, disgusted with the human race, is intent upon finding Halley\\'s Comet and crashing into it, achieving his \"destiny.\" It\\'s up to Tom, Becky, and Huck to convince him that his judgment is wrong and that he still has much to offer humanity that might make a difference. Their efforts aren\\'t just charitable; if they fail, they will share Twain\\'s fate. Along the way, they use a magical time portal to get a detailed overview of the Twain philosophy, observing the \"historical\" events that inspired his works.',\n",
              " 'In 20 years, he\\'s directed more films than Martin Scorsese, He\\'s produced more profitable movies than Jerry Bruckheimer, And he\\'s infuriated more actors than Alfred Hitchcock. The ultimate B Movie Documentary, focusing on B Movie Giant Jim Wynorski (and B Movie Celebration Mentor) and his attempt to make a feature film in 3 days. He\\'s directed seventy feature films, but he\\'s never made one... in THREE DAYS. Jim cuts the shooting schedule, has the actors cook their own food. A documentary featuring B-Movie legends Roger Corman, Andy Sidaris, Julie Strain, Julie K. Smith and Stormy Daniels, Popatopolis follows Jim Wynorski as he begins to film one of his many opuses \"Witches of Breastwick\" Jim\\'s frenetic pace demands 100 setups per day (the Hollywood standard is 20), and he reduces his electric package to just two lights so he can concentrate on the task at hand.A great overview of a true master at work and in many ways a laser sharp dialectic on the state of B filmmaking today.']"
            ]
          },
          "execution_count": 733,
          "metadata": {},
          "output_type": "execute_result"
        }
      ],
      "source": [
        "overview_set = set(movies_df[movies_df['overview'].str.match('.*overview.*', case=False)]['overview'])\n",
        "sorted(list(overview_set), key=lambda x: len(x))"
      ]
    },
    {
      "cell_type": "code",
      "execution_count": null,
      "metadata": {
        "colab": {
          "base_uri": "https://localhost:8080/"
        },
        "id": "1PlfowLztitw",
        "outputId": "44778e02-03e0-4bbc-a653-eec1d26585fb"
      },
      "outputs": [
        {
          "data": {
            "text/plain": [
              "{'No Overview',\n",
              " 'No movie overview available, please add one at themoviedb.org',\n",
              " 'No movie overview available.',\n",
              " 'No overview',\n",
              " 'No overview found',\n",
              " 'No overview found.',\n",
              " 'No overview yet.',\n",
              " 'No overview.',\n",
              " 'No plot overview available',\n",
              " 'no overview yet'}"
            ]
          },
          "execution_count": 735,
          "metadata": {},
          "output_type": "execute_result"
        }
      ],
      "source": [
        "stringsContainsOverview = set(filter(lambda x: len(x) <= 61, overview_set))\n",
        "stringsContainsOverview"
      ]
    },
    {
      "cell_type": "code",
      "execution_count": null,
      "metadata": {
        "id": "g9G4wVA4uOvX"
      },
      "outputs": [],
      "source": [
        "movies_df = movies_df[~movies_df['overview'].isin(stringsContainsOverview)]"
      ]
    },
    {
      "cell_type": "code",
      "execution_count": null,
      "metadata": {
        "id": "HEQUuCv5zOuB"
      },
      "outputs": [],
      "source": [
        "movies_df['word_count'] = movies_df['overview_1'].apply(lambda x: len(x))\n",
        "movies_df = movies_df[~(movies_df['word_count'] <= 10)]"
      ]
    },
    {
      "cell_type": "markdown",
      "metadata": {
        "id": "o6z6ZUDkwJa6"
      },
      "source": [
        "## Задание 2"
      ]
    },
    {
      "cell_type": "markdown",
      "metadata": {
        "id": "3GLq8eNA-a4q"
      },
      "source": [
        "Оставьте в датафрейме столбцы `'id', 'imdb_id', 'overview', 'title'`. Выведите 10 случайных строк."
      ]
    },
    {
      "cell_type": "code",
      "execution_count": null,
      "metadata": {
        "colab": {
          "base_uri": "https://localhost:8080/",
          "height": 363
        },
        "id": "dM_Ro7HINE4w",
        "outputId": "a783ce30-d0ba-4d1a-a2be-5c6285e1e0ac"
      },
      "outputs": [
        {
          "data": {
            "text/html": [
              "<div>\n",
              "<style scoped>\n",
              "    .dataframe tbody tr th:only-of-type {\n",
              "        vertical-align: middle;\n",
              "    }\n",
              "\n",
              "    .dataframe tbody tr th {\n",
              "        vertical-align: top;\n",
              "    }\n",
              "\n",
              "    .dataframe thead th {\n",
              "        text-align: right;\n",
              "    }\n",
              "</style>\n",
              "<table border=\"1\" class=\"dataframe\">\n",
              "  <thead>\n",
              "    <tr style=\"text-align: right;\">\n",
              "      <th></th>\n",
              "      <th>id</th>\n",
              "      <th>imdb_id</th>\n",
              "      <th>overview</th>\n",
              "      <th>title</th>\n",
              "    </tr>\n",
              "  </thead>\n",
              "  <tbody>\n",
              "    <tr>\n",
              "      <th>21245</th>\n",
              "      <td>61198</td>\n",
              "      <td>tt1172957</td>\n",
              "      <td>Director Mark Wexler embarks on a worldwide tr...</td>\n",
              "      <td>How to Live Forever</td>\n",
              "    </tr>\n",
              "    <tr>\n",
              "      <th>22547</th>\n",
              "      <td>2442</td>\n",
              "      <td>tt0113063</td>\n",
              "      <td>Mysterious bomber is planting explosive device...</td>\n",
              "      <td>The Final Cut</td>\n",
              "    </tr>\n",
              "    <tr>\n",
              "      <th>20445</th>\n",
              "      <td>64335</td>\n",
              "      <td>tt1808197</td>\n",
              "      <td>On a night of despair after being turned down ...</td>\n",
              "      <td>Fig Jam</td>\n",
              "    </tr>\n",
              "    <tr>\n",
              "      <th>40114</th>\n",
              "      <td>374617</td>\n",
              "      <td>tt4781612</td>\n",
              "      <td>Nate Foster, a young, idealistic FBI agent, go...</td>\n",
              "      <td>Imperium</td>\n",
              "    </tr>\n",
              "    <tr>\n",
              "      <th>1183</th>\n",
              "      <td>3109</td>\n",
              "      <td>tt0045061</td>\n",
              "      <td>Sean Thornton has returned from America to rec...</td>\n",
              "      <td>The Quiet Man</td>\n",
              "    </tr>\n",
              "    <tr>\n",
              "      <th>34840</th>\n",
              "      <td>63441</td>\n",
              "      <td>tt0082153</td>\n",
              "      <td>Philip Kwok plays a repentant killer who vows ...</td>\n",
              "      <td>Masked Avengers</td>\n",
              "    </tr>\n",
              "    <tr>\n",
              "      <th>32507</th>\n",
              "      <td>306543</td>\n",
              "      <td>tt3851324</td>\n",
              "      <td>Just when Timo is trying to win back his ex-gi...</td>\n",
              "      <td>Homies</td>\n",
              "    </tr>\n",
              "    <tr>\n",
              "      <th>27842</th>\n",
              "      <td>224972</td>\n",
              "      <td>tt3983674</td>\n",
              "      <td>Compared to girls, research shows that boys in...</td>\n",
              "      <td>The Mask You Live In</td>\n",
              "    </tr>\n",
              "    <tr>\n",
              "      <th>31345</th>\n",
              "      <td>348090</td>\n",
              "      <td>tt2466212</td>\n",
              "      <td>This film focuses on how a group of African Am...</td>\n",
              "      <td>The Black Kung Fu Experience</td>\n",
              "    </tr>\n",
              "    <tr>\n",
              "      <th>5488</th>\n",
              "      <td>31005</td>\n",
              "      <td>tt0179098</td>\n",
              "      <td>As he copes with the death of his fiancee alon...</td>\n",
              "      <td>Moonlight Mile</td>\n",
              "    </tr>\n",
              "  </tbody>\n",
              "</table>\n",
              "</div>"
            ],
            "text/plain": [
              "           id    imdb_id                                           overview  \\\n",
              "21245   61198  tt1172957  Director Mark Wexler embarks on a worldwide tr...   \n",
              "22547    2442  tt0113063  Mysterious bomber is planting explosive device...   \n",
              "20445   64335  tt1808197  On a night of despair after being turned down ...   \n",
              "40114  374617  tt4781612  Nate Foster, a young, idealistic FBI agent, go...   \n",
              "1183     3109  tt0045061  Sean Thornton has returned from America to rec...   \n",
              "34840   63441  tt0082153  Philip Kwok plays a repentant killer who vows ...   \n",
              "32507  306543  tt3851324  Just when Timo is trying to win back his ex-gi...   \n",
              "27842  224972  tt3983674  Compared to girls, research shows that boys in...   \n",
              "31345  348090  tt2466212  This film focuses on how a group of African Am...   \n",
              "5488    31005  tt0179098  As he copes with the death of his fiancee alon...   \n",
              "\n",
              "                              title  \n",
              "21245           How to Live Forever  \n",
              "22547                 The Final Cut  \n",
              "20445                       Fig Jam  \n",
              "40114                      Imperium  \n",
              "1183                  The Quiet Man  \n",
              "34840               Masked Avengers  \n",
              "32507                        Homies  \n",
              "27842          The Mask You Live In  \n",
              "31345  The Black Kung Fu Experience  \n",
              "5488                 Moonlight Mile  "
            ]
          },
          "execution_count": 741,
          "metadata": {},
          "output_type": "execute_result"
        }
      ],
      "source": [
        "movies_df = movies_df[['id', 'imdb_id', 'overview', 'title']]\n",
        "movies_df.sample(n=10)"
      ]
    },
    {
      "cell_type": "markdown",
      "metadata": {
        "id": "1smb9t1BJy1P"
      },
      "source": [
        "## Задание 3"
      ]
    },
    {
      "cell_type": "code",
      "execution_count": null,
      "metadata": {
        "id": "Ci_oySOA438x"
      },
      "outputs": [],
      "source": [
        "ratings = pd.read_csv(filepath_or_buffer = \"ratings.csv\")"
      ]
    },
    {
      "cell_type": "code",
      "execution_count": null,
      "metadata": {
        "colab": {
          "base_uri": "https://localhost:8080/",
          "height": 363
        },
        "id": "quIoezkBTGZZ",
        "outputId": "f9abfcd9-e492-4400-e514-b746e3827953"
      },
      "outputs": [
        {
          "data": {
            "text/html": [
              "<div>\n",
              "<style scoped>\n",
              "    .dataframe tbody tr th:only-of-type {\n",
              "        vertical-align: middle;\n",
              "    }\n",
              "\n",
              "    .dataframe tbody tr th {\n",
              "        vertical-align: top;\n",
              "    }\n",
              "\n",
              "    .dataframe thead th {\n",
              "        text-align: right;\n",
              "    }\n",
              "</style>\n",
              "<table border=\"1\" class=\"dataframe\">\n",
              "  <thead>\n",
              "    <tr style=\"text-align: right;\">\n",
              "      <th></th>\n",
              "      <th>userId</th>\n",
              "      <th>movieId</th>\n",
              "      <th>rating</th>\n",
              "      <th>timestamp</th>\n",
              "    </tr>\n",
              "  </thead>\n",
              "  <tbody>\n",
              "    <tr>\n",
              "      <th>0</th>\n",
              "      <td>1</td>\n",
              "      <td>110</td>\n",
              "      <td>1.0</td>\n",
              "      <td>1425941529</td>\n",
              "    </tr>\n",
              "    <tr>\n",
              "      <th>1</th>\n",
              "      <td>1</td>\n",
              "      <td>147</td>\n",
              "      <td>4.5</td>\n",
              "      <td>1425942435</td>\n",
              "    </tr>\n",
              "    <tr>\n",
              "      <th>2</th>\n",
              "      <td>1</td>\n",
              "      <td>858</td>\n",
              "      <td>5.0</td>\n",
              "      <td>1425941523</td>\n",
              "    </tr>\n",
              "    <tr>\n",
              "      <th>3</th>\n",
              "      <td>1</td>\n",
              "      <td>1221</td>\n",
              "      <td>5.0</td>\n",
              "      <td>1425941546</td>\n",
              "    </tr>\n",
              "    <tr>\n",
              "      <th>4</th>\n",
              "      <td>1</td>\n",
              "      <td>1246</td>\n",
              "      <td>5.0</td>\n",
              "      <td>1425941556</td>\n",
              "    </tr>\n",
              "    <tr>\n",
              "      <th>5</th>\n",
              "      <td>1</td>\n",
              "      <td>1968</td>\n",
              "      <td>4.0</td>\n",
              "      <td>1425942148</td>\n",
              "    </tr>\n",
              "    <tr>\n",
              "      <th>6</th>\n",
              "      <td>1</td>\n",
              "      <td>2762</td>\n",
              "      <td>4.5</td>\n",
              "      <td>1425941300</td>\n",
              "    </tr>\n",
              "    <tr>\n",
              "      <th>7</th>\n",
              "      <td>1</td>\n",
              "      <td>2918</td>\n",
              "      <td>5.0</td>\n",
              "      <td>1425941593</td>\n",
              "    </tr>\n",
              "    <tr>\n",
              "      <th>8</th>\n",
              "      <td>1</td>\n",
              "      <td>2959</td>\n",
              "      <td>4.0</td>\n",
              "      <td>1425941601</td>\n",
              "    </tr>\n",
              "    <tr>\n",
              "      <th>9</th>\n",
              "      <td>1</td>\n",
              "      <td>4226</td>\n",
              "      <td>4.0</td>\n",
              "      <td>1425942228</td>\n",
              "    </tr>\n",
              "  </tbody>\n",
              "</table>\n",
              "</div>"
            ],
            "text/plain": [
              "   userId  movieId  rating   timestamp\n",
              "0       1      110     1.0  1425941529\n",
              "1       1      147     4.5  1425942435\n",
              "2       1      858     5.0  1425941523\n",
              "3       1     1221     5.0  1425941546\n",
              "4       1     1246     5.0  1425941556\n",
              "5       1     1968     4.0  1425942148\n",
              "6       1     2762     4.5  1425941300\n",
              "7       1     2918     5.0  1425941593\n",
              "8       1     2959     4.0  1425941601\n",
              "9       1     4226     4.0  1425942228"
            ]
          },
          "execution_count": 743,
          "metadata": {},
          "output_type": "execute_result"
        }
      ],
      "source": [
        "ratings.head(10)"
      ]
    },
    {
      "cell_type": "markdown",
      "metadata": {
        "id": "5n60gzmGk3yu"
      },
      "source": [
        "Убедимся в отсутствии пропусков"
      ]
    },
    {
      "cell_type": "code",
      "execution_count": null,
      "metadata": {
        "id": "pifpWo3ckX2b"
      },
      "outputs": [],
      "source": [
        "pd.isnull(ratings).sum()"
      ]
    },
    {
      "cell_type": "markdown",
      "metadata": {
        "id": "0YKZ0PhV_2TI"
      },
      "source": [
        "Объедините датафреймы `metadata` и `ratings` в один. Обратите внимание, что `'id'` в  `metadata`, этот тот же самый идентификатор, что и `'movie_id'` и `ratings`. Объединять нужно по этому идентификатору (также обратите внимание на его тип данных)."
      ]
    },
    {
      "cell_type": "code",
      "execution_count": null,
      "metadata": {
        "id": "dnGGHpaOULlM"
      },
      "outputs": [],
      "source": [
        "movies_df = movies_df.astype({'id': np.int64})\n",
        "movieAndRating = pd.merge(movies_df, ratings, how='inner', left_on='id', right_on='movieId')\n",
        "movieAndRating = movieAndRating.drop(columns = ['movieId'], axis = 1)"
      ]
    },
    {
      "cell_type": "code",
      "execution_count": null,
      "metadata": {
        "colab": {
          "base_uri": "https://localhost:8080/",
          "height": 520
        },
        "id": "abDGrKpuZpGy",
        "outputId": "12ab36d7-5cad-44c7-f49a-7f72eb494db1"
      },
      "outputs": [
        {
          "data": {
            "text/html": [
              "<div>\n",
              "<style scoped>\n",
              "    .dataframe tbody tr th:only-of-type {\n",
              "        vertical-align: middle;\n",
              "    }\n",
              "\n",
              "    .dataframe tbody tr th {\n",
              "        vertical-align: top;\n",
              "    }\n",
              "\n",
              "    .dataframe thead th {\n",
              "        text-align: right;\n",
              "    }\n",
              "</style>\n",
              "<table border=\"1\" class=\"dataframe\">\n",
              "  <thead>\n",
              "    <tr style=\"text-align: right;\">\n",
              "      <th></th>\n",
              "      <th>id</th>\n",
              "      <th>imdb_id</th>\n",
              "      <th>overview</th>\n",
              "      <th>title</th>\n",
              "      <th>userId</th>\n",
              "      <th>rating</th>\n",
              "      <th>timestamp</th>\n",
              "    </tr>\n",
              "  </thead>\n",
              "  <tbody>\n",
              "    <tr>\n",
              "      <th>6156452</th>\n",
              "      <td>42015</td>\n",
              "      <td>tt0094089</td>\n",
              "      <td>Spalding Gray sits behind a desk throughout th...</td>\n",
              "      <td>Swimming to Cambodia</td>\n",
              "      <td>79042</td>\n",
              "      <td>3.0</td>\n",
              "      <td>1463658015</td>\n",
              "    </tr>\n",
              "    <tr>\n",
              "      <th>6816836</th>\n",
              "      <td>1884</td>\n",
              "      <td>tt0087225</td>\n",
              "      <td>The Towani family civilian shuttlecraft crashe...</td>\n",
              "      <td>The Ewok Adventure</td>\n",
              "      <td>155867</td>\n",
              "      <td>5.0</td>\n",
              "      <td>1452873377</td>\n",
              "    </tr>\n",
              "    <tr>\n",
              "      <th>9933980</th>\n",
              "      <td>46578</td>\n",
              "      <td>tt0078960</td>\n",
              "      <td>A busload containing three cheerleading teams ...</td>\n",
              "      <td>Cheerleaders' Wild Weekend</td>\n",
              "      <td>16744</td>\n",
              "      <td>4.0</td>\n",
              "      <td>1469163695</td>\n",
              "    </tr>\n",
              "    <tr>\n",
              "      <th>10068305</th>\n",
              "      <td>53129</td>\n",
              "      <td>tt0374298</td>\n",
              "      <td>The film is based on the second book from the ...</td>\n",
              "      <td>The Turkish Gambit</td>\n",
              "      <td>140384</td>\n",
              "      <td>3.5</td>\n",
              "      <td>1229033677</td>\n",
              "    </tr>\n",
              "    <tr>\n",
              "      <th>2197009</th>\n",
              "      <td>1580</td>\n",
              "      <td>tt0040746</td>\n",
              "      <td>Two young men strangle their \"inferior\" classm...</td>\n",
              "      <td>Rope</td>\n",
              "      <td>160281</td>\n",
              "      <td>3.0</td>\n",
              "      <td>943924712</td>\n",
              "    </tr>\n",
              "    <tr>\n",
              "      <th>2115310</th>\n",
              "      <td>907</td>\n",
              "      <td>tt0059113</td>\n",
              "      <td>Doctor Zhivago is the filmed adapation of the ...</td>\n",
              "      <td>Doctor Zhivago</td>\n",
              "      <td>127696</td>\n",
              "      <td>5.0</td>\n",
              "      <td>938536360</td>\n",
              "    </tr>\n",
              "    <tr>\n",
              "      <th>8912778</th>\n",
              "      <td>2253</td>\n",
              "      <td>tt0985699</td>\n",
              "      <td>Wounded in Africa during World War II, Nazi Co...</td>\n",
              "      <td>Valkyrie</td>\n",
              "      <td>153344</td>\n",
              "      <td>1.0</td>\n",
              "      <td>945876202</td>\n",
              "    </tr>\n",
              "    <tr>\n",
              "      <th>1930909</th>\n",
              "      <td>380</td>\n",
              "      <td>tt0095953</td>\n",
              "      <td>Selfish yuppie Charlie Babbitt's father left a...</td>\n",
              "      <td>Rain Man</td>\n",
              "      <td>145679</td>\n",
              "      <td>4.0</td>\n",
              "      <td>1252588969</td>\n",
              "    </tr>\n",
              "    <tr>\n",
              "      <th>3598618</th>\n",
              "      <td>541</td>\n",
              "      <td>tt0048347</td>\n",
              "      <td>Frankie is a heroin addict and sits in prison....</td>\n",
              "      <td>The Man with the Golden Arm</td>\n",
              "      <td>219249</td>\n",
              "      <td>3.0</td>\n",
              "      <td>963368041</td>\n",
              "    </tr>\n",
              "    <tr>\n",
              "      <th>1195786</th>\n",
              "      <td>832</td>\n",
              "      <td>tt0022100</td>\n",
              "      <td>In this classic German thriller, Hans Beckert,...</td>\n",
              "      <td>M</td>\n",
              "      <td>130626</td>\n",
              "      <td>4.0</td>\n",
              "      <td>1334967171</td>\n",
              "    </tr>\n",
              "    <tr>\n",
              "      <th>8886206</th>\n",
              "      <td>5816</td>\n",
              "      <td>tt0476681</td>\n",
              "      <td>Edgar works as a waiter in 'Het Westen', a res...</td>\n",
              "      <td>Waiter</td>\n",
              "      <td>98508</td>\n",
              "      <td>3.0</td>\n",
              "      <td>1453442902</td>\n",
              "    </tr>\n",
              "    <tr>\n",
              "      <th>6800403</th>\n",
              "      <td>30707</td>\n",
              "      <td>tt0086355</td>\n",
              "      <td>Paul Snider is a narcissistic, small time hust...</td>\n",
              "      <td>Star 80</td>\n",
              "      <td>63230</td>\n",
              "      <td>5.0</td>\n",
              "      <td>1121921088</td>\n",
              "    </tr>\n",
              "    <tr>\n",
              "      <th>2737783</th>\n",
              "      <td>1073</td>\n",
              "      <td>tt0137363</td>\n",
              "      <td>Threats from sinister foreign nationals aren't...</td>\n",
              "      <td>Arlington Road</td>\n",
              "      <td>176568</td>\n",
              "      <td>5.0</td>\n",
              "      <td>992452505</td>\n",
              "    </tr>\n",
              "    <tr>\n",
              "      <th>438885</th>\n",
              "      <td>6</td>\n",
              "      <td>tt0107286</td>\n",
              "      <td>While racing to a boxing match, Frank, Mike, J...</td>\n",
              "      <td>Judgment Night</td>\n",
              "      <td>189291</td>\n",
              "      <td>4.0</td>\n",
              "      <td>1493211231</td>\n",
              "    </tr>\n",
              "    <tr>\n",
              "      <th>10042674</th>\n",
              "      <td>4255</td>\n",
              "      <td>tt0065904</td>\n",
              "      <td>Kitty and Stud are lovers. They enjoy a robust...</td>\n",
              "      <td>The Party at Kitty and Stud's</td>\n",
              "      <td>230597</td>\n",
              "      <td>1.0</td>\n",
              "      <td>1028443337</td>\n",
              "    </tr>\n",
              "  </tbody>\n",
              "</table>\n",
              "</div>"
            ],
            "text/plain": [
              "             id    imdb_id                                           overview  \\\n",
              "6156452   42015  tt0094089  Spalding Gray sits behind a desk throughout th...   \n",
              "6816836    1884  tt0087225  The Towani family civilian shuttlecraft crashe...   \n",
              "9933980   46578  tt0078960  A busload containing three cheerleading teams ...   \n",
              "10068305  53129  tt0374298  The film is based on the second book from the ...   \n",
              "2197009    1580  tt0040746  Two young men strangle their \"inferior\" classm...   \n",
              "2115310     907  tt0059113  Doctor Zhivago is the filmed adapation of the ...   \n",
              "8912778    2253  tt0985699  Wounded in Africa during World War II, Nazi Co...   \n",
              "1930909     380  tt0095953  Selfish yuppie Charlie Babbitt's father left a...   \n",
              "3598618     541  tt0048347  Frankie is a heroin addict and sits in prison....   \n",
              "1195786     832  tt0022100  In this classic German thriller, Hans Beckert,...   \n",
              "8886206    5816  tt0476681  Edgar works as a waiter in 'Het Westen', a res...   \n",
              "6800403   30707  tt0086355  Paul Snider is a narcissistic, small time hust...   \n",
              "2737783    1073  tt0137363  Threats from sinister foreign nationals aren't...   \n",
              "438885        6  tt0107286  While racing to a boxing match, Frank, Mike, J...   \n",
              "10042674   4255  tt0065904  Kitty and Stud are lovers. They enjoy a robust...   \n",
              "\n",
              "                                  title  userId  rating   timestamp  \n",
              "6156452            Swimming to Cambodia   79042     3.0  1463658015  \n",
              "6816836              The Ewok Adventure  155867     5.0  1452873377  \n",
              "9933980      Cheerleaders' Wild Weekend   16744     4.0  1469163695  \n",
              "10068305             The Turkish Gambit  140384     3.5  1229033677  \n",
              "2197009                            Rope  160281     3.0   943924712  \n",
              "2115310                  Doctor Zhivago  127696     5.0   938536360  \n",
              "8912778                        Valkyrie  153344     1.0   945876202  \n",
              "1930909                        Rain Man  145679     4.0  1252588969  \n",
              "3598618     The Man with the Golden Arm  219249     3.0   963368041  \n",
              "1195786                               M  130626     4.0  1334967171  \n",
              "8886206                          Waiter   98508     3.0  1453442902  \n",
              "6800403                         Star 80   63230     5.0  1121921088  \n",
              "2737783                  Arlington Road  176568     5.0   992452505  \n",
              "438885                   Judgment Night  189291     4.0  1493211231  \n",
              "10042674  The Party at Kitty and Stud's  230597     1.0  1028443337  "
            ]
          },
          "execution_count": 748,
          "metadata": {},
          "output_type": "execute_result"
        }
      ],
      "source": [
        "movieAndRating.sample(15)"
      ]
    },
    {
      "cell_type": "markdown",
      "metadata": {
        "id": "9paMCSNcBAlE"
      },
      "source": [
        "## Задание 4"
      ]
    },
    {
      "cell_type": "markdown",
      "metadata": {
        "id": "5FN7L7HYmoQn"
      },
      "source": [
        "Появились ли пропуски в получившемся после объединения датафрейме? Если появились, то ответьте на вопрос \"почему?\" и удалите строки с пропусками.\n",
        "\n",
        "Выведите размеры получившегося датафрейма и 10 случайных записей в нём."
      ]
    },
    {
      "cell_type": "code",
      "execution_count": null,
      "metadata": {
        "colab": {
          "base_uri": "https://localhost:8080/",
          "height": 363
        },
        "id": "HOa7zirBcJZ3",
        "outputId": "fe385dc6-54e0-4b42-a00e-8c3a27ba938c"
      },
      "outputs": [
        {
          "data": {
            "text/html": [
              "<div>\n",
              "<style scoped>\n",
              "    .dataframe tbody tr th:only-of-type {\n",
              "        vertical-align: middle;\n",
              "    }\n",
              "\n",
              "    .dataframe tbody tr th {\n",
              "        vertical-align: top;\n",
              "    }\n",
              "\n",
              "    .dataframe thead th {\n",
              "        text-align: right;\n",
              "    }\n",
              "</style>\n",
              "<table border=\"1\" class=\"dataframe\">\n",
              "  <thead>\n",
              "    <tr style=\"text-align: right;\">\n",
              "      <th></th>\n",
              "      <th>id</th>\n",
              "      <th>imdb_id</th>\n",
              "      <th>overview</th>\n",
              "      <th>title</th>\n",
              "      <th>userId</th>\n",
              "      <th>rating</th>\n",
              "      <th>timestamp</th>\n",
              "    </tr>\n",
              "  </thead>\n",
              "  <tbody>\n",
              "    <tr>\n",
              "      <th>6407486</th>\n",
              "      <td>46976</td>\n",
              "      <td>tt0094331</td>\n",
              "      <td>In a staid English seaside town after the Seco...</td>\n",
              "      <td>Wish You Were Here</td>\n",
              "      <td>206421</td>\n",
              "      <td>4.0</td>\n",
              "      <td>1277009301</td>\n",
              "    </tr>\n",
              "    <tr>\n",
              "      <th>126631</th>\n",
              "      <td>4954</td>\n",
              "      <td>tt0109676</td>\n",
              "      <td>A team of skydiving crooks led by DEA-agent-tu...</td>\n",
              "      <td>Drop Zone</td>\n",
              "      <td>247118</td>\n",
              "      <td>2.5</td>\n",
              "      <td>1115990878</td>\n",
              "    </tr>\n",
              "    <tr>\n",
              "      <th>2147271</th>\n",
              "      <td>2182</td>\n",
              "      <td>tt0080391</td>\n",
              "      <td>Attack of the Killer Tomatoes is a 1978 comedy...</td>\n",
              "      <td>Attack of the Killer Tomatoes!</td>\n",
              "      <td>37448</td>\n",
              "      <td>4.0</td>\n",
              "      <td>1101948498</td>\n",
              "    </tr>\n",
              "    <tr>\n",
              "      <th>6649616</th>\n",
              "      <td>3060</td>\n",
              "      <td>tt0015624</td>\n",
              "      <td>The story of an idle rich boy who joins the US...</td>\n",
              "      <td>The Big Parade</td>\n",
              "      <td>216907</td>\n",
              "      <td>4.0</td>\n",
              "      <td>1052773659</td>\n",
              "    </tr>\n",
              "    <tr>\n",
              "      <th>9863857</th>\n",
              "      <td>44191</td>\n",
              "      <td>tt0089501</td>\n",
              "      <td>Brad, Steve, Hue, and Marvin are four get-nowh...</td>\n",
              "      <td>Loose Screws</td>\n",
              "      <td>91768</td>\n",
              "      <td>5.0</td>\n",
              "      <td>1447840062</td>\n",
              "    </tr>\n",
              "    <tr>\n",
              "      <th>4599077</th>\n",
              "      <td>112</td>\n",
              "      <td>tt0243862</td>\n",
              "      <td>This fifth Danish Dogme film is about six vuln...</td>\n",
              "      <td>Italian for Beginners</td>\n",
              "      <td>148201</td>\n",
              "      <td>3.0</td>\n",
              "      <td>919552828</td>\n",
              "    </tr>\n",
              "    <tr>\n",
              "      <th>3086778</th>\n",
              "      <td>293</td>\n",
              "      <td>tt0105265</td>\n",
              "      <td>A River Runs Through is a cinematographically ...</td>\n",
              "      <td>A River Runs Through It</td>\n",
              "      <td>181235</td>\n",
              "      <td>3.5</td>\n",
              "      <td>1273249013</td>\n",
              "    </tr>\n",
              "    <tr>\n",
              "      <th>1176985</th>\n",
              "      <td>207</td>\n",
              "      <td>tt0097165</td>\n",
              "      <td>At an elite, old-fashioned boarding school in ...</td>\n",
              "      <td>Dead Poets Society</td>\n",
              "      <td>242904</td>\n",
              "      <td>4.5</td>\n",
              "      <td>1226252456</td>\n",
              "    </tr>\n",
              "    <tr>\n",
              "      <th>1673630</th>\n",
              "      <td>8874</td>\n",
              "      <td>tt0119738</td>\n",
              "      <td>When she receives word that her longtime plato...</td>\n",
              "      <td>My Best Friend's Wedding</td>\n",
              "      <td>87240</td>\n",
              "      <td>4.5</td>\n",
              "      <td>1094985012</td>\n",
              "    </tr>\n",
              "    <tr>\n",
              "      <th>2692643</th>\n",
              "      <td>104</td>\n",
              "      <td>tt0130827</td>\n",
              "      <td>Lola receives a phone call from her boyfriend ...</td>\n",
              "      <td>Run Lola Run</td>\n",
              "      <td>127995</td>\n",
              "      <td>2.5</td>\n",
              "      <td>1481387362</td>\n",
              "    </tr>\n",
              "  </tbody>\n",
              "</table>\n",
              "</div>"
            ],
            "text/plain": [
              "            id    imdb_id                                           overview  \\\n",
              "6407486  46976  tt0094331  In a staid English seaside town after the Seco...   \n",
              "126631    4954  tt0109676  A team of skydiving crooks led by DEA-agent-tu...   \n",
              "2147271   2182  tt0080391  Attack of the Killer Tomatoes is a 1978 comedy...   \n",
              "6649616   3060  tt0015624  The story of an idle rich boy who joins the US...   \n",
              "9863857  44191  tt0089501  Brad, Steve, Hue, and Marvin are four get-nowh...   \n",
              "4599077    112  tt0243862  This fifth Danish Dogme film is about six vuln...   \n",
              "3086778    293  tt0105265  A River Runs Through is a cinematographically ...   \n",
              "1176985    207  tt0097165  At an elite, old-fashioned boarding school in ...   \n",
              "1673630   8874  tt0119738  When she receives word that her longtime plato...   \n",
              "2692643    104  tt0130827  Lola receives a phone call from her boyfriend ...   \n",
              "\n",
              "                                  title  userId  rating   timestamp  \n",
              "6407486              Wish You Were Here  206421     4.0  1277009301  \n",
              "126631                        Drop Zone  247118     2.5  1115990878  \n",
              "2147271  Attack of the Killer Tomatoes!   37448     4.0  1101948498  \n",
              "6649616                  The Big Parade  216907     4.0  1052773659  \n",
              "9863857                    Loose Screws   91768     5.0  1447840062  \n",
              "4599077           Italian for Beginners  148201     3.0   919552828  \n",
              "3086778         A River Runs Through It  181235     3.5  1273249013  \n",
              "1176985              Dead Poets Society  242904     4.5  1226252456  \n",
              "1673630        My Best Friend's Wedding   87240     4.5  1094985012  \n",
              "2692643                    Run Lola Run  127995     2.5  1481387362  "
            ]
          },
          "execution_count": 750,
          "metadata": {},
          "output_type": "execute_result"
        }
      ],
      "source": [
        "movieAndRating.sample(n=10)"
      ]
    },
    {
      "cell_type": "markdown",
      "metadata": {
        "id": "JlBSFBYfDqCH"
      },
      "source": [
        "## Задание 5"
      ]
    },
    {
      "cell_type": "markdown",
      "metadata": {
        "id": "p1_Gjtmgnoc6"
      },
      "source": [
        "Возьмите случайного пользователя (проверьте, чтобы у него было достаточное количество оценок). Сформируйте для этого пользователя рекомендацию методом коллаборативной фильтрации. Оцените качество это рекомендации.\n",
        "\n",
        "\n",
        "Повторите эти рассчеты для большого числа пользователей и дайте интегральную оценку."
      ]
    },
    {
      "cell_type": "code",
      "execution_count": null,
      "metadata": {
        "id": "J9WMfcTGcLmr"
      },
      "outputs": [],
      "source": [
        "critics = (movieAndRating.groupby('userId')['rating'].count() > 700).reset_index()\n",
        "critics = critics[critics['rating'] == True]\n",
        "\n",
        "critics"
      ]
    },
    {
      "cell_type": "code",
      "execution_count": null,
      "metadata": {
        "id": "cicX_H6mxzFg"
      },
      "outputs": [],
      "source": [
        "myUserId = critics.sample(1).userId.values[0]\n",
        "\n",
        "myUserId"
      ]
    },
    {
      "cell_type": "code",
      "execution_count": null,
      "metadata": {
        "id": "XoSjQxVMpQDA"
      },
      "outputs": [],
      "source": [
        "movieAndRating[movieAndRating['userId'] == myUserId]"
      ]
    },
    {
      "cell_type": "code",
      "execution_count": null,
      "metadata": {
        "id": "K9nXPLtZzG_W"
      },
      "outputs": [],
      "source": [
        "myUserRatings = movieAndRating[movieAndRating['userId'] == myUserId]\n",
        "otherUsersRatings = movieAndRating[(movieAndRating['userId'] != myUserId) & \\\n",
        "                                   (movieAndRating.userId.isin(critics.userId))]\n",
        "otherUsersRatingsMyFilms = otherUsersRatings[otherUsersRatings.id.isin(myUserRatings.id)]\n",
        "sim_films = pd.merge(myUserRatings, otherUsersRatingsMyFilms[['id', 'userId', 'rating']], \\\n",
        "                      how='left', left_on='id', right_on='id')"
      ]
    },
    {
      "cell_type": "code",
      "execution_count": null,
      "metadata": {
        "id": "CHrEWqXKeoU3"
      },
      "outputs": [],
      "source": [
        "from math import sqrt\n",
        "\n",
        "def compute_euclid(x, y):\n",
        "  if len(x) != len(y):\n",
        "    return 0\n",
        "  sum = 0\n",
        "  for i in range(len(x)):\n",
        "    sum += np.square(y[i] - x[i])\n",
        "  return np.sqrt(sum)"
      ]
    },
    {
      "cell_type": "code",
      "execution_count": null,
      "metadata": {
        "id": "A-XrY1I1neZ9"
      },
      "outputs": [],
      "source": [
        "def similarity(x, y):\n",
        "  return 1 / (1 + compute_euclid(x, y))"
      ]
    },
    {
      "cell_type": "code",
      "execution_count": null,
      "metadata": {
        "id": "clwRljtKqLVN"
      },
      "outputs": [],
      "source": [
        "sim_films = sim_films.rename(columns = {'userId_y' : 'userId'})"
      ]
    },
    {
      "cell_type": "code",
      "execution_count": null,
      "metadata": {
        "id": "cogFD8DFOmzA"
      },
      "outputs": [],
      "source": [
        "from scipy.stats import pearsonr\n",
        "import warnings\n",
        "warnings.filterwarnings(\"ignore\")\n",
        "\n",
        "def count_sim(sim_films, pearson):\n",
        "  sim_users = {}\n",
        "\n",
        "  grouped_sim_films = sim_films.groupby('userId')\n",
        "\n",
        "  for key, group in grouped_sim_films:\n",
        "    cur_user = grouped_sim_films.get_group(key)\n",
        "    x = cur_user['rating_x'].values\n",
        "    y = cur_user['rating_y'].values\n",
        "    if len(x) > 120:\n",
        "      if pearson:\n",
        "        score = pearsonr(x, y)[0]\n",
        "      else:\n",
        "        score = similarity(x, y)\n",
        "\n",
        "      if score >= 0.0:\n",
        "        sim_users[key] = score\n",
        "      else:\n",
        "        sim_users[key] = 0\n",
        "  return sim_users"
      ]
    },
    {
      "cell_type": "code",
      "execution_count": null,
      "metadata": {
        "id": "EMUICjwGq-CT"
      },
      "outputs": [],
      "source": [
        "sim_users = count_sim(sim_films, False)"
      ]
    },
    {
      "cell_type": "code",
      "execution_count": null,
      "metadata": {
        "colab": {
          "base_uri": "https://localhost:8080/",
          "height": 206
        },
        "id": "5F4UMJo1q7k9",
        "outputId": "e61f9412-74f5-445a-b664-0521240eb781"
      },
      "outputs": [
        {
          "data": {
            "text/html": [
              "<div>\n",
              "<style scoped>\n",
              "    .dataframe tbody tr th:only-of-type {\n",
              "        vertical-align: middle;\n",
              "    }\n",
              "\n",
              "    .dataframe tbody tr th {\n",
              "        vertical-align: top;\n",
              "    }\n",
              "\n",
              "    .dataframe thead th {\n",
              "        text-align: right;\n",
              "    }\n",
              "</style>\n",
              "<table border=\"1\" class=\"dataframe\">\n",
              "  <thead>\n",
              "    <tr style=\"text-align: right;\">\n",
              "      <th></th>\n",
              "      <th>similarityIndex</th>\n",
              "      <th>userId</th>\n",
              "    </tr>\n",
              "  </thead>\n",
              "  <tbody>\n",
              "    <tr>\n",
              "      <th>193</th>\n",
              "      <td>0.031631</td>\n",
              "      <td>172480</td>\n",
              "    </tr>\n",
              "    <tr>\n",
              "      <th>182</th>\n",
              "      <td>0.038883</td>\n",
              "      <td>162505</td>\n",
              "    </tr>\n",
              "    <tr>\n",
              "      <th>246</th>\n",
              "      <td>0.037947</td>\n",
              "      <td>224707</td>\n",
              "    </tr>\n",
              "    <tr>\n",
              "      <th>221</th>\n",
              "      <td>0.025585</td>\n",
              "      <td>194690</td>\n",
              "    </tr>\n",
              "    <tr>\n",
              "      <th>270</th>\n",
              "      <td>0.031117</td>\n",
              "      <td>251298</td>\n",
              "    </tr>\n",
              "  </tbody>\n",
              "</table>\n",
              "</div>"
            ],
            "text/plain": [
              "     similarityIndex  userId\n",
              "193         0.031631  172480\n",
              "182         0.038883  162505\n",
              "246         0.037947  224707\n",
              "221         0.025585  194690\n",
              "270         0.031117  251298"
            ]
          },
          "execution_count": 797,
          "metadata": {},
          "output_type": "execute_result"
        }
      ],
      "source": [
        "userDF = pd.DataFrame.from_dict(sim_users, orient='index')\n",
        "userDF.columns = ['similarityIndex']\n",
        "userDF['userId'] = userDF.index\n",
        "userDF.index = range(len(userDF))\n",
        "userDF.sample(5)"
      ]
    },
    {
      "cell_type": "code",
      "execution_count": null,
      "metadata": {
        "colab": {
          "base_uri": "https://localhost:8080/",
          "height": 363
        },
        "id": "OBE4V2ALrchz",
        "outputId": "b6138fb6-b446-4554-b76e-e4e59ef84087"
      },
      "outputs": [
        {
          "data": {
            "text/html": [
              "<div>\n",
              "<style scoped>\n",
              "    .dataframe tbody tr th:only-of-type {\n",
              "        vertical-align: middle;\n",
              "    }\n",
              "\n",
              "    .dataframe tbody tr th {\n",
              "        vertical-align: top;\n",
              "    }\n",
              "\n",
              "    .dataframe thead th {\n",
              "        text-align: right;\n",
              "    }\n",
              "</style>\n",
              "<table border=\"1\" class=\"dataframe\">\n",
              "  <thead>\n",
              "    <tr style=\"text-align: right;\">\n",
              "      <th></th>\n",
              "      <th>similarityIndex</th>\n",
              "      <th>userId</th>\n",
              "    </tr>\n",
              "  </thead>\n",
              "  <tbody>\n",
              "    <tr>\n",
              "      <th>44</th>\n",
              "      <td>0.071331</td>\n",
              "      <td>37222</td>\n",
              "    </tr>\n",
              "    <tr>\n",
              "      <th>249</th>\n",
              "      <td>0.064842</td>\n",
              "      <td>228291</td>\n",
              "    </tr>\n",
              "    <tr>\n",
              "      <th>267</th>\n",
              "      <td>0.062961</td>\n",
              "      <td>249810</td>\n",
              "    </tr>\n",
              "    <tr>\n",
              "      <th>167</th>\n",
              "      <td>0.062500</td>\n",
              "      <td>147611</td>\n",
              "    </tr>\n",
              "    <tr>\n",
              "      <th>34</th>\n",
              "      <td>0.061986</td>\n",
              "      <td>30494</td>\n",
              "    </tr>\n",
              "    <tr>\n",
              "      <th>222</th>\n",
              "      <td>0.061025</td>\n",
              "      <td>196061</td>\n",
              "    </tr>\n",
              "    <tr>\n",
              "      <th>66</th>\n",
              "      <td>0.060905</td>\n",
              "      <td>53562</td>\n",
              "    </tr>\n",
              "    <tr>\n",
              "      <th>2</th>\n",
              "      <td>0.060196</td>\n",
              "      <td>4160</td>\n",
              "    </tr>\n",
              "    <tr>\n",
              "      <th>184</th>\n",
              "      <td>0.059652</td>\n",
              "      <td>164198</td>\n",
              "    </tr>\n",
              "    <tr>\n",
              "      <th>69</th>\n",
              "      <td>0.059624</td>\n",
              "      <td>56954</td>\n",
              "    </tr>\n",
              "  </tbody>\n",
              "</table>\n",
              "</div>"
            ],
            "text/plain": [
              "     similarityIndex  userId\n",
              "44          0.071331   37222\n",
              "249         0.064842  228291\n",
              "267         0.062961  249810\n",
              "167         0.062500  147611\n",
              "34          0.061986   30494\n",
              "222         0.061025  196061\n",
              "66          0.060905   53562\n",
              "2           0.060196    4160\n",
              "184         0.059652  164198\n",
              "69          0.059624   56954"
            ]
          },
          "execution_count": 798,
          "metadata": {},
          "output_type": "execute_result"
        }
      ],
      "source": [
        "topUsers=userDF.sort_values(by='similarityIndex', ascending=False)[:10]\n",
        "topUsers"
      ]
    },
    {
      "cell_type": "code",
      "execution_count": null,
      "metadata": {
        "id": "f6pp-Gmg9pLB"
      },
      "outputs": [],
      "source": [
        "NoWatchedFilms = otherUsersRatings[~otherUsersRatings.id.isin(myUserRatings.id)]\n",
        "NoWatchedFilms"
      ]
    },
    {
      "cell_type": "code",
      "execution_count": null,
      "metadata": {
        "id": "IFYPcJ_HsWsW"
      },
      "outputs": [],
      "source": [
        "topUsersRating=NoWatchedFilms.merge(topUsers, left_on='userId', right_on='userId', how='inner')\n",
        "topUsersRating[['id', 'title', 'userId',  'rating', 'similarityIndex']].sample(10)"
      ]
    },
    {
      "cell_type": "code",
      "execution_count": null,
      "metadata": {
        "colab": {
          "base_uri": "https://localhost:8080/",
          "height": 520
        },
        "id": "n-e1m3DvsnfF",
        "outputId": "8c945a6b-15e7-4bb7-f79f-8bc67af4550e"
      },
      "outputs": [
        {
          "data": {
            "text/html": [
              "<div>\n",
              "<style scoped>\n",
              "    .dataframe tbody tr th:only-of-type {\n",
              "        vertical-align: middle;\n",
              "    }\n",
              "\n",
              "    .dataframe tbody tr th {\n",
              "        vertical-align: top;\n",
              "    }\n",
              "\n",
              "    .dataframe thead th {\n",
              "        text-align: right;\n",
              "    }\n",
              "</style>\n",
              "<table border=\"1\" class=\"dataframe\">\n",
              "  <thead>\n",
              "    <tr style=\"text-align: right;\">\n",
              "      <th></th>\n",
              "      <th>id</th>\n",
              "      <th>title</th>\n",
              "      <th>userId</th>\n",
              "      <th>rating</th>\n",
              "      <th>similarityIndex</th>\n",
              "      <th>weightedRating</th>\n",
              "    </tr>\n",
              "  </thead>\n",
              "  <tbody>\n",
              "    <tr>\n",
              "      <th>0</th>\n",
              "      <td>949</td>\n",
              "      <td>Heat</td>\n",
              "      <td>30494</td>\n",
              "      <td>4.5</td>\n",
              "      <td>0.061986</td>\n",
              "      <td>0.278936</td>\n",
              "    </tr>\n",
              "    <tr>\n",
              "      <th>1</th>\n",
              "      <td>2074</td>\n",
              "      <td>Flirting with Disaster</td>\n",
              "      <td>30494</td>\n",
              "      <td>4.0</td>\n",
              "      <td>0.061986</td>\n",
              "      <td>0.247943</td>\n",
              "    </tr>\n",
              "    <tr>\n",
              "      <th>2</th>\n",
              "      <td>1572</td>\n",
              "      <td>Die Hard: With a Vengeance</td>\n",
              "      <td>30494</td>\n",
              "      <td>4.5</td>\n",
              "      <td>0.061986</td>\n",
              "      <td>0.278936</td>\n",
              "    </tr>\n",
              "    <tr>\n",
              "      <th>3</th>\n",
              "      <td>8973</td>\n",
              "      <td>Lord of Illusions</td>\n",
              "      <td>30494</td>\n",
              "      <td>4.0</td>\n",
              "      <td>0.061986</td>\n",
              "      <td>0.247943</td>\n",
              "    </tr>\n",
              "    <tr>\n",
              "      <th>4</th>\n",
              "      <td>26258</td>\n",
              "      <td>Bushwhacked</td>\n",
              "      <td>30494</td>\n",
              "      <td>4.0</td>\n",
              "      <td>0.061986</td>\n",
              "      <td>0.247943</td>\n",
              "    </tr>\n",
              "    <tr>\n",
              "      <th>5</th>\n",
              "      <td>1909</td>\n",
              "      <td>Don Juan DeMarco</td>\n",
              "      <td>30494</td>\n",
              "      <td>4.0</td>\n",
              "      <td>0.061986</td>\n",
              "      <td>0.247943</td>\n",
              "    </tr>\n",
              "    <tr>\n",
              "      <th>6</th>\n",
              "      <td>8984</td>\n",
              "      <td>Disclosure</td>\n",
              "      <td>30494</td>\n",
              "      <td>4.5</td>\n",
              "      <td>0.061986</td>\n",
              "      <td>0.278936</td>\n",
              "    </tr>\n",
              "    <tr>\n",
              "      <th>7</th>\n",
              "      <td>1945</td>\n",
              "      <td>Nell</td>\n",
              "      <td>30494</td>\n",
              "      <td>4.5</td>\n",
              "      <td>0.061986</td>\n",
              "      <td>0.278936</td>\n",
              "    </tr>\n",
              "    <tr>\n",
              "      <th>8</th>\n",
              "      <td>527</td>\n",
              "      <td>Once Were Warriors</td>\n",
              "      <td>30494</td>\n",
              "      <td>4.5</td>\n",
              "      <td>0.061986</td>\n",
              "      <td>0.278936</td>\n",
              "    </tr>\n",
              "    <tr>\n",
              "      <th>9</th>\n",
              "      <td>101</td>\n",
              "      <td>Leon: The Professional</td>\n",
              "      <td>30494</td>\n",
              "      <td>3.5</td>\n",
              "      <td>0.061986</td>\n",
              "      <td>0.216950</td>\n",
              "    </tr>\n",
              "    <tr>\n",
              "      <th>10</th>\n",
              "      <td>680</td>\n",
              "      <td>Pulp Fiction</td>\n",
              "      <td>30494</td>\n",
              "      <td>4.0</td>\n",
              "      <td>0.061986</td>\n",
              "      <td>0.247943</td>\n",
              "    </tr>\n",
              "    <tr>\n",
              "      <th>11</th>\n",
              "      <td>193</td>\n",
              "      <td>Star Trek: Generations</td>\n",
              "      <td>30494</td>\n",
              "      <td>3.5</td>\n",
              "      <td>0.061986</td>\n",
              "      <td>0.216950</td>\n",
              "    </tr>\n",
              "    <tr>\n",
              "      <th>12</th>\n",
              "      <td>1587</td>\n",
              "      <td>What's Eating Gilbert Grape</td>\n",
              "      <td>30494</td>\n",
              "      <td>4.5</td>\n",
              "      <td>0.061986</td>\n",
              "      <td>0.278936</td>\n",
              "    </tr>\n",
              "    <tr>\n",
              "      <th>13</th>\n",
              "      <td>2654</td>\n",
              "      <td>In the Mouth of Madness</td>\n",
              "      <td>30494</td>\n",
              "      <td>3.5</td>\n",
              "      <td>0.061986</td>\n",
              "      <td>0.216950</td>\n",
              "    </tr>\n",
              "    <tr>\n",
              "      <th>14</th>\n",
              "      <td>306</td>\n",
              "      <td>Beverly Hills Cop III</td>\n",
              "      <td>30494</td>\n",
              "      <td>4.5</td>\n",
              "      <td>0.061986</td>\n",
              "      <td>0.278936</td>\n",
              "    </tr>\n",
              "  </tbody>\n",
              "</table>\n",
              "</div>"
            ],
            "text/plain": [
              "       id                        title  userId  rating  similarityIndex  \\\n",
              "0     949                         Heat   30494     4.5         0.061986   \n",
              "1    2074       Flirting with Disaster   30494     4.0         0.061986   \n",
              "2    1572   Die Hard: With a Vengeance   30494     4.5         0.061986   \n",
              "3    8973            Lord of Illusions   30494     4.0         0.061986   \n",
              "4   26258                  Bushwhacked   30494     4.0         0.061986   \n",
              "5    1909             Don Juan DeMarco   30494     4.0         0.061986   \n",
              "6    8984                   Disclosure   30494     4.5         0.061986   \n",
              "7    1945                         Nell   30494     4.5         0.061986   \n",
              "8     527           Once Were Warriors   30494     4.5         0.061986   \n",
              "9     101       Leon: The Professional   30494     3.5         0.061986   \n",
              "10    680                 Pulp Fiction   30494     4.0         0.061986   \n",
              "11    193       Star Trek: Generations   30494     3.5         0.061986   \n",
              "12   1587  What's Eating Gilbert Grape   30494     4.5         0.061986   \n",
              "13   2654      In the Mouth of Madness   30494     3.5         0.061986   \n",
              "14    306        Beverly Hills Cop III   30494     4.5         0.061986   \n",
              "\n",
              "    weightedRating  \n",
              "0         0.278936  \n",
              "1         0.247943  \n",
              "2         0.278936  \n",
              "3         0.247943  \n",
              "4         0.247943  \n",
              "5         0.247943  \n",
              "6         0.278936  \n",
              "7         0.278936  \n",
              "8         0.278936  \n",
              "9         0.216950  \n",
              "10        0.247943  \n",
              "11        0.216950  \n",
              "12        0.278936  \n",
              "13        0.216950  \n",
              "14        0.278936  "
            ]
          },
          "execution_count": 801,
          "metadata": {},
          "output_type": "execute_result"
        }
      ],
      "source": [
        "topUsersRating['weightedRating'] = topUsersRating['similarityIndex'] * topUsersRating['rating']\n",
        "topUsersRating[['id', 'title', 'userId',  'rating', 'similarityIndex', 'weightedRating']].head(15)"
      ]
    },
    {
      "cell_type": "code",
      "execution_count": null,
      "metadata": {
        "colab": {
          "base_uri": "https://localhost:8080/",
          "height": 394
        },
        "id": "1UvX1eD9sz7V",
        "outputId": "4307a292-e48c-4f00-ea36-4d402f26ac45"
      },
      "outputs": [
        {
          "data": {
            "text/html": [
              "<div>\n",
              "<style scoped>\n",
              "    .dataframe tbody tr th:only-of-type {\n",
              "        vertical-align: middle;\n",
              "    }\n",
              "\n",
              "    .dataframe tbody tr th {\n",
              "        vertical-align: top;\n",
              "    }\n",
              "\n",
              "    .dataframe thead th {\n",
              "        text-align: right;\n",
              "    }\n",
              "</style>\n",
              "<table border=\"1\" class=\"dataframe\">\n",
              "  <thead>\n",
              "    <tr style=\"text-align: right;\">\n",
              "      <th></th>\n",
              "      <th></th>\n",
              "      <th>sum_similarityIndex</th>\n",
              "      <th>sum_weightedRating</th>\n",
              "    </tr>\n",
              "    <tr>\n",
              "      <th>id</th>\n",
              "      <th>title</th>\n",
              "      <th></th>\n",
              "      <th></th>\n",
              "    </tr>\n",
              "  </thead>\n",
              "  <tbody>\n",
              "    <tr>\n",
              "      <th>14</th>\n",
              "      <th>American Beauty</th>\n",
              "      <td>0.243262</td>\n",
              "      <td>0.974702</td>\n",
              "    </tr>\n",
              "    <tr>\n",
              "      <th>16</th>\n",
              "      <th>Dancer in the Dark</th>\n",
              "      <td>0.430533</td>\n",
              "      <td>1.596251</td>\n",
              "    </tr>\n",
              "    <tr>\n",
              "      <th>18</th>\n",
              "      <th>The Fifth Element</th>\n",
              "      <td>0.245163</td>\n",
              "      <td>0.889269</td>\n",
              "    </tr>\n",
              "    <tr>\n",
              "      <th>19</th>\n",
              "      <th>Metropolis</th>\n",
              "      <td>0.318401</td>\n",
              "      <td>0.801471</td>\n",
              "    </tr>\n",
              "    <tr>\n",
              "      <th>20</th>\n",
              "      <th>My Life Without Me</th>\n",
              "      <td>0.134292</td>\n",
              "      <td>0.434355</td>\n",
              "    </tr>\n",
              "    <tr>\n",
              "      <th>25</th>\n",
              "      <th>Jarhead</th>\n",
              "      <td>0.428652</td>\n",
              "      <td>1.472698</td>\n",
              "    </tr>\n",
              "    <tr>\n",
              "      <th>26</th>\n",
              "      <th>Walk on Water</th>\n",
              "      <td>0.122613</td>\n",
              "      <td>0.523587</td>\n",
              "    </tr>\n",
              "    <tr>\n",
              "      <th>68</th>\n",
              "      <th>Brazil</th>\n",
              "      <td>0.125867</td>\n",
              "      <td>0.347088</td>\n",
              "    </tr>\n",
              "    <tr>\n",
              "      <th>69</th>\n",
              "      <th>Walk the Line</th>\n",
              "      <td>0.062961</td>\n",
              "      <td>0.251844</td>\n",
              "    </tr>\n",
              "    <tr>\n",
              "      <th>70</th>\n",
              "      <th>Million Dollar Baby</th>\n",
              "      <td>0.376117</td>\n",
              "      <td>1.383807</td>\n",
              "    </tr>\n",
              "  </tbody>\n",
              "</table>\n",
              "</div>"
            ],
            "text/plain": [
              "                        sum_similarityIndex  sum_weightedRating\n",
              "id title                                                       \n",
              "14 American Beauty                 0.243262            0.974702\n",
              "16 Dancer in the Dark              0.430533            1.596251\n",
              "18 The Fifth Element               0.245163            0.889269\n",
              "19 Metropolis                      0.318401            0.801471\n",
              "20 My Life Without Me              0.134292            0.434355\n",
              "25 Jarhead                         0.428652            1.472698\n",
              "26 Walk on Water                   0.122613            0.523587\n",
              "68 Brazil                          0.125867            0.347088\n",
              "69 Walk the Line                   0.062961            0.251844\n",
              "70 Million Dollar Baby             0.376117            1.383807"
            ]
          },
          "execution_count": 802,
          "metadata": {},
          "output_type": "execute_result"
        }
      ],
      "source": [
        "tempTopUsersRating = topUsersRating.groupby(['id', 'title']).sum()[['similarityIndex','weightedRating']]\n",
        "tempTopUsersRating.columns = ['sum_similarityIndex','sum_weightedRating']\n",
        "tempTopUsersRating.head(10)"
      ]
    },
    {
      "cell_type": "code",
      "execution_count": null,
      "metadata": {
        "id": "pYwGOlhCtStl"
      },
      "outputs": [],
      "source": [
        "recommendation_df = pd.DataFrame()\n",
        "recommendation_df['score'] = tempTopUsersRating['sum_weightedRating'] / tempTopUsersRating['sum_similarityIndex']\n",
        "#recommendation_df['id_'] = tempTopUsersRating.index\n",
        "recommendation_df = recommendation_df.sort_values(by='score', ascending=False)"
      ]
    },
    {
      "cell_type": "code",
      "execution_count": null,
      "metadata": {
        "colab": {
          "base_uri": "https://localhost:8080/",
          "height": 394
        },
        "id": "diah5opvtVXU",
        "outputId": "b826bed2-ee60-4b3f-b4c8-7d7b187c461f"
      },
      "outputs": [
        {
          "data": {
            "text/html": [
              "<div>\n",
              "<style scoped>\n",
              "    .dataframe tbody tr th:only-of-type {\n",
              "        vertical-align: middle;\n",
              "    }\n",
              "\n",
              "    .dataframe tbody tr th {\n",
              "        vertical-align: top;\n",
              "    }\n",
              "\n",
              "    .dataframe thead th {\n",
              "        text-align: right;\n",
              "    }\n",
              "</style>\n",
              "<table border=\"1\" class=\"dataframe\">\n",
              "  <thead>\n",
              "    <tr style=\"text-align: right;\">\n",
              "      <th></th>\n",
              "      <th></th>\n",
              "      <th>score</th>\n",
              "    </tr>\n",
              "    <tr>\n",
              "      <th>id</th>\n",
              "      <th>title</th>\n",
              "      <th></th>\n",
              "    </tr>\n",
              "  </thead>\n",
              "  <tbody>\n",
              "    <tr>\n",
              "      <th>125263</th>\n",
              "      <th>Broken Vessels</th>\n",
              "      <td>3.000000</td>\n",
              "    </tr>\n",
              "    <tr>\n",
              "      <th>84152</th>\n",
              "      <th>Dollman vs. Demonic Toys</th>\n",
              "      <td>3.277463</td>\n",
              "    </tr>\n",
              "    <tr>\n",
              "      <th>42217</th>\n",
              "      <th>Bobby Deerfield</th>\n",
              "      <td>3.760480</td>\n",
              "    </tr>\n",
              "    <tr>\n",
              "      <th>118900</th>\n",
              "      <th>In the Meantime, Darling</th>\n",
              "      <td>3.765581</td>\n",
              "    </tr>\n",
              "    <tr>\n",
              "      <th>1647</th>\n",
              "      <th>The Recruit</th>\n",
              "      <td>3.247155</td>\n",
              "    </tr>\n",
              "    <tr>\n",
              "      <th>8886</th>\n",
              "      <th>Palermo Shooting</th>\n",
              "      <td>3.000000</td>\n",
              "    </tr>\n",
              "    <tr>\n",
              "      <th>80844</th>\n",
              "      <th>The Other Side of Midnight</th>\n",
              "      <td>2.476173</td>\n",
              "    </tr>\n",
              "    <tr>\n",
              "      <th>696</th>\n",
              "      <th>Manhattan</th>\n",
              "      <td>3.500000</td>\n",
              "    </tr>\n",
              "    <tr>\n",
              "      <th>26314</th>\n",
              "      <th>Job, czyli ostatnia szara komórka</th>\n",
              "      <td>3.000000</td>\n",
              "    </tr>\n",
              "    <tr>\n",
              "      <th>54328</th>\n",
              "      <th>Ocean Heaven</th>\n",
              "      <td>3.000000</td>\n",
              "    </tr>\n",
              "  </tbody>\n",
              "</table>\n",
              "</div>"
            ],
            "text/plain": [
              "                                             score\n",
              "id     title                                      \n",
              "125263 Broken Vessels                     3.000000\n",
              "84152  Dollman vs. Demonic Toys           3.277463\n",
              "42217  Bobby Deerfield                    3.760480\n",
              "118900 In the Meantime, Darling           3.765581\n",
              "1647   The Recruit                        3.247155\n",
              "8886   Palermo Shooting                   3.000000\n",
              "80844  The Other Side of Midnight         2.476173\n",
              "696    Manhattan                          3.500000\n",
              "26314  Job, czyli ostatnia szara komórka  3.000000\n",
              "54328  Ocean Heaven                       3.000000"
            ]
          },
          "execution_count": 804,
          "metadata": {},
          "output_type": "execute_result"
        }
      ],
      "source": [
        "recommendation_df.sample(10)"
      ]
    },
    {
      "cell_type": "code",
      "execution_count": null,
      "metadata": {
        "colab": {
          "base_uri": "https://localhost:8080/",
          "height": 300
        },
        "id": "iCGLJ8OKtVN1",
        "outputId": "943f57fe-87de-43c5-a04f-1f4e18b7b97c"
      },
      "outputs": [
        {
          "data": {
            "text/html": [
              "<div>\n",
              "<style scoped>\n",
              "    .dataframe tbody tr th:only-of-type {\n",
              "        vertical-align: middle;\n",
              "    }\n",
              "\n",
              "    .dataframe tbody tr th {\n",
              "        vertical-align: top;\n",
              "    }\n",
              "\n",
              "    .dataframe thead th {\n",
              "        text-align: right;\n",
              "    }\n",
              "</style>\n",
              "<table border=\"1\" class=\"dataframe\">\n",
              "  <thead>\n",
              "    <tr style=\"text-align: right;\">\n",
              "      <th></th>\n",
              "      <th></th>\n",
              "      <th>score</th>\n",
              "    </tr>\n",
              "    <tr>\n",
              "      <th>id</th>\n",
              "      <th>title</th>\n",
              "      <th></th>\n",
              "    </tr>\n",
              "  </thead>\n",
              "  <tbody>\n",
              "    <tr>\n",
              "      <th>26479</th>\n",
              "      <th>Strapped</th>\n",
              "      <td>5.0</td>\n",
              "    </tr>\n",
              "    <tr>\n",
              "      <th>4176</th>\n",
              "      <th>Murder on the Orient Express</th>\n",
              "      <td>5.0</td>\n",
              "    </tr>\n",
              "    <tr>\n",
              "      <th>41434</th>\n",
              "      <th>Don't Look Up</th>\n",
              "      <td>5.0</td>\n",
              "    </tr>\n",
              "    <tr>\n",
              "      <th>5817</th>\n",
              "      <th>You, the Living</th>\n",
              "      <td>5.0</td>\n",
              "    </tr>\n",
              "    <tr>\n",
              "      <th>4708</th>\n",
              "      <th>Is Paris Burning?</th>\n",
              "      <td>5.0</td>\n",
              "    </tr>\n",
              "    <tr>\n",
              "      <th>4612</th>\n",
              "      <th>Absolon</th>\n",
              "      <td>5.0</td>\n",
              "    </tr>\n",
              "    <tr>\n",
              "      <th>123109</th>\n",
              "      <th>No One Lives</th>\n",
              "      <td>5.0</td>\n",
              "    </tr>\n",
              "  </tbody>\n",
              "</table>\n",
              "</div>"
            ],
            "text/plain": [
              "                                     score\n",
              "id     title                              \n",
              "26479  Strapped                        5.0\n",
              "4176   Murder on the Orient Express    5.0\n",
              "41434  Don't Look Up                   5.0\n",
              "5817   You, the Living                 5.0\n",
              "4708   Is Paris Burning?               5.0\n",
              "4612   Absolon                         5.0\n",
              "123109 No One Lives                    5.0"
            ]
          },
          "execution_count": 805,
          "metadata": {},
          "output_type": "execute_result"
        }
      ],
      "source": [
        "recommendation_df = recommendation_df[recommendation_df.score > 4.0]\n",
        "recommendation_df.head(7)"
      ]
    },
    {
      "cell_type": "markdown",
      "metadata": {
        "id": "_wy3JoTRDKze"
      },
      "source": [
        "Итоговая функция"
      ]
    },
    {
      "cell_type": "code",
      "execution_count": null,
      "metadata": {
        "id": "C3V2MZLOrwDv"
      },
      "outputs": [],
      "source": [
        "def count_recomended(selected_userId, pearson):\n",
        "  myUserRatings = movieAndRating[movieAndRating['userId'] == selected_userId]\n",
        "  otherUsersRatings = movieAndRating[(movieAndRating['userId'] != selected_userId) & \\\n",
        "                                   (movieAndRating.userId.isin(critics.userId))]\n",
        "  otherUsersRatingsMyFilms = otherUsersRatings[otherUsersRatings.id.isin(myUserRatings.id)]\n",
        "  sim_films = pd.merge(myUserRatings, otherUsersRatingsMyFilms[['id', 'userId', 'rating']], \\\n",
        "                      how='left', left_on='id', right_on='id')\n",
        "\n",
        "  #print(sim_films)\n",
        "  sim_films = sim_films.rename(columns = {'userId_y' : 'userId'})\n",
        "  sim_users = count_sim(sim_films, pearson)\n",
        "\n",
        "  userDF = pd.DataFrame.from_dict(sim_users, orient='index')\n",
        "  userDF.columns = ['similarityIndex']\n",
        "  userDF['userId'] = userDF.index\n",
        "  userDF.index = range(len(userDF))\n",
        "  userDF.head()\n",
        "\n",
        "  topUsers=userDF.sort_values(by='similarityIndex', ascending=False)[:10]\n",
        "\n",
        "  NoWatchedFilms = otherUsersRatings[~otherUsersRatings.id.isin(myUserRatings.id)]\n",
        "\n",
        "  topUsersRating=NoWatchedFilms.merge(topUsers, left_on='userId', right_on='userId', how='inner')\n",
        "  topUsersRating['weightedRating'] = topUsersRating['similarityIndex'] * topUsersRating['rating']\n",
        "\n",
        "  tempTopUsersRating = topUsersRating.groupby(['id', 'title']).sum()[['similarityIndex','weightedRating']]\n",
        "  tempTopUsersRating.columns = ['sum_similarityIndex','sum_weightedRating']\n",
        "\n",
        "  recommendation_df = pd.DataFrame()\n",
        "  recommendation_df['score'] = tempTopUsersRating['sum_weightedRating'] / tempTopUsersRating['sum_similarityIndex']\n",
        "  recommendation_df = recommendation_df.sort_values(by='score', ascending=False)\n",
        "  recommendation_df = recommendation_df.reset_index(level=['id','title'])\n",
        "\n",
        "  return recommendation_df"
      ]
    },
    {
      "cell_type": "code",
      "execution_count": null,
      "metadata": {
        "colab": {
          "base_uri": "https://localhost:8080/"
        },
        "id": "tGurnTAWDh3T",
        "outputId": "d933865d-4e22-464b-a187-8cf6d8569362"
      },
      "outputs": [
        {
          "data": {
            "text/plain": [
              "225793"
            ]
          },
          "execution_count": 807,
          "metadata": {},
          "output_type": "execute_result"
        }
      ],
      "source": [
        "newUserId = critics.sample(1).userId.values[0]\n",
        "\n",
        "newUserId"
      ]
    },
    {
      "cell_type": "code",
      "execution_count": null,
      "metadata": {
        "id": "omV0BJHSqtL3"
      },
      "outputs": [],
      "source": [
        "rec = count_recomended(newUserId, False)"
      ]
    },
    {
      "cell_type": "code",
      "execution_count": null,
      "metadata": {
        "colab": {
          "base_uri": "https://localhost:8080/",
          "height": 269
        },
        "id": "aqQgpOlMRU-l",
        "outputId": "8d91f667-48d8-4b79-f685-7e7194e84c9f"
      },
      "outputs": [
        {
          "data": {
            "text/html": [
              "<div>\n",
              "<style scoped>\n",
              "    .dataframe tbody tr th:only-of-type {\n",
              "        vertical-align: middle;\n",
              "    }\n",
              "\n",
              "    .dataframe tbody tr th {\n",
              "        vertical-align: top;\n",
              "    }\n",
              "\n",
              "    .dataframe thead th {\n",
              "        text-align: right;\n",
              "    }\n",
              "</style>\n",
              "<table border=\"1\" class=\"dataframe\">\n",
              "  <thead>\n",
              "    <tr style=\"text-align: right;\">\n",
              "      <th></th>\n",
              "      <th>id</th>\n",
              "      <th>title</th>\n",
              "      <th>score</th>\n",
              "    </tr>\n",
              "  </thead>\n",
              "  <tbody>\n",
              "    <tr>\n",
              "      <th>0</th>\n",
              "      <td>37495</td>\n",
              "      <td>Four Lions</td>\n",
              "      <td>5.0</td>\n",
              "    </tr>\n",
              "    <tr>\n",
              "      <th>1</th>\n",
              "      <td>33294</td>\n",
              "      <td>In Your Hands</td>\n",
              "      <td>5.0</td>\n",
              "    </tr>\n",
              "    <tr>\n",
              "      <th>2</th>\n",
              "      <td>131739</td>\n",
              "      <td>Isoroku Yamamoto, the Commander-in-Chief of th...</td>\n",
              "      <td>5.0</td>\n",
              "    </tr>\n",
              "    <tr>\n",
              "      <th>3</th>\n",
              "      <td>668</td>\n",
              "      <td>On Her Majesty's Secret Service</td>\n",
              "      <td>5.0</td>\n",
              "    </tr>\n",
              "    <tr>\n",
              "      <th>4</th>\n",
              "      <td>98532</td>\n",
              "      <td>Sensation</td>\n",
              "      <td>5.0</td>\n",
              "    </tr>\n",
              "    <tr>\n",
              "      <th>5</th>\n",
              "      <td>26578</td>\n",
              "      <td>The Falcon and the Snowman</td>\n",
              "      <td>5.0</td>\n",
              "    </tr>\n",
              "    <tr>\n",
              "      <th>6</th>\n",
              "      <td>42217</td>\n",
              "      <td>Bobby Deerfield</td>\n",
              "      <td>5.0</td>\n",
              "    </tr>\n",
              "  </tbody>\n",
              "</table>\n",
              "</div>"
            ],
            "text/plain": [
              "       id                                              title  score\n",
              "0   37495                                         Four Lions    5.0\n",
              "1   33294                                      In Your Hands    5.0\n",
              "2  131739  Isoroku Yamamoto, the Commander-in-Chief of th...    5.0\n",
              "3     668                    On Her Majesty's Secret Service    5.0\n",
              "4   98532                                          Sensation    5.0\n",
              "5   26578                         The Falcon and the Snowman    5.0\n",
              "6   42217                                    Bobby Deerfield    5.0"
            ]
          },
          "execution_count": 809,
          "metadata": {},
          "output_type": "execute_result"
        }
      ],
      "source": [
        "rec.head(7)\n",
        "#rec[rec.score > 4.0]"
      ]
    },
    {
      "cell_type": "code",
      "execution_count": null,
      "metadata": {
        "id": "NeZ31hDDFuvO"
      },
      "outputs": [],
      "source": [
        "from IPython.display import display\n",
        "\n",
        "def count_recomended_2(user_movies_df, userId, pearson):\n",
        "  myUserRatings = user_movies_df\n",
        "\n",
        "  otherUsersRatings = movieAndRating[(movieAndRating['userId'] != userId) & \\\n",
        "                                   (movieAndRating.userId.isin(critics.userId))]\n",
        "  otherUsersRatingsMyFilms = otherUsersRatings[otherUsersRatings.id.isin(myUserRatings.id)]\n",
        "\n",
        "  sim_films = pd.merge(myUserRatings, otherUsersRatingsMyFilms[['id', 'userId', 'rating']], \\\n",
        "                      how='left', left_on='id', right_on='id')\n",
        "  #display(sim_films)\n",
        "\n",
        "  sim_films = sim_films.rename(columns = {'userId_y' : 'userId'})\n",
        "  sim_users = count_sim(sim_films, pearson)\n",
        "\n",
        "  userDF = pd.DataFrame.from_dict(sim_users, orient='index')\n",
        "  userDF.columns = ['similarityIndex']\n",
        "  userDF['userId'] = userDF.index\n",
        "  userDF.index = range(len(userDF))\n",
        "  userDF.head()\n",
        "\n",
        "  topUsers=userDF.sort_values(by='similarityIndex', ascending=False)[:7]\n",
        "\n",
        "  watchedFilms = otherUsersRatingsMyFilms\n",
        "\n",
        "  topUsersRating= watchedFilms.merge(topUsers, left_on='userId', right_on='userId', how='inner')\n",
        "  topUsersRating['weightedRating'] = topUsersRating['similarityIndex'] * topUsersRating['rating']\n",
        "\n",
        "  tempTopUsersRating = topUsersRating.groupby(['id', 'title']).sum()[['similarityIndex','weightedRating']]\n",
        "  tempTopUsersRating.columns = ['sum_similarityIndex','sum_weightedRating']\n",
        "\n",
        "  recommendation_df = pd.DataFrame()\n",
        "  recommendation_df['score'] = tempTopUsersRating['sum_weightedRating'] / tempTopUsersRating['sum_similarityIndex']\n",
        "  recommendation_df = recommendation_df.sort_values(by='score', ascending=False)\n",
        "  recommendation_df = recommendation_df.reset_index(level=['id','title'])\n",
        "  recommendation_df = recommendation_df.drop(columns='title')\n",
        "\n",
        "  return recommendation_df"
      ]
    },
    {
      "cell_type": "code",
      "execution_count": null,
      "metadata": {
        "id": "K2Nzl5ejOlqM"
      },
      "outputs": [],
      "source": [
        "from sklearn.metrics import mean_squared_error, mean_absolute_error\n",
        "\n",
        "def calculateMetricsFromPairs(actual_pairs, predicted_pairs):\n",
        "    metrics = [\n",
        "        # MSE\n",
        "        mean_squared_error,\n",
        "        # RMSE\n",
        "        lambda x, y: np.sqrt(mean_squared_error(x, y)),\n",
        "        # MAE\n",
        "        mean_absolute_error\n",
        "    ]\n",
        "\n",
        "    x = actual_pairs\n",
        "    y = predicted_pairs\n",
        "\n",
        "\n",
        "    calculations = [\n",
        "        f(x, y)\n",
        "        for f in metrics\n",
        "    ]\n",
        "\n",
        "    return pd.DataFrame([calculations], columns=['MSE', 'RMSE', 'MAE'])"
      ]
    },
    {
      "cell_type": "code",
      "execution_count": null,
      "metadata": {
        "colab": {
          "base_uri": "https://localhost:8080/"
        },
        "id": "QOEX_6zNKr_b",
        "outputId": "7b46d823-c340-4d63-e3c6-2f5b36c9b116"
      },
      "outputs": [
        {
          "data": {
            "text/plain": [
              "75660"
            ]
          },
          "execution_count": 812,
          "metadata": {},
          "output_type": "execute_result"
        }
      ],
      "source": [
        "newUserId = critics.sample(1).userId.values[0]\n",
        "\n",
        "newUserId"
      ]
    },
    {
      "cell_type": "code",
      "execution_count": null,
      "metadata": {
        "colab": {
          "base_uri": "https://localhost:8080/",
          "height": 180
        },
        "id": "4Fi5FVmZCdL6",
        "outputId": "bc96b522-af56-489d-bff3-97b1aa99e7a0"
      },
      "outputs": [
        {
          "name": "stdout",
          "output_type": "stream",
          "text": [
            "Calculated metrics by leave-one-out method for userId = 75660:\n"
          ]
        },
        {
          "data": {
            "text/html": [
              "<div>\n",
              "<style scoped>\n",
              "    .dataframe tbody tr th:only-of-type {\n",
              "        vertical-align: middle;\n",
              "    }\n",
              "\n",
              "    .dataframe tbody tr th {\n",
              "        vertical-align: top;\n",
              "    }\n",
              "\n",
              "    .dataframe thead th {\n",
              "        text-align: right;\n",
              "    }\n",
              "</style>\n",
              "<table border=\"1\" class=\"dataframe\">\n",
              "  <thead>\n",
              "    <tr style=\"text-align: right;\">\n",
              "      <th></th>\n",
              "      <th>MSE</th>\n",
              "      <th>RMSE</th>\n",
              "      <th>MAE</th>\n",
              "    </tr>\n",
              "  </thead>\n",
              "  <tbody>\n",
              "    <tr>\n",
              "      <th>0</th>\n",
              "      <td>0.631055</td>\n",
              "      <td>0.794389</td>\n",
              "      <td>0.618961</td>\n",
              "    </tr>\n",
              "  </tbody>\n",
              "</table>\n",
              "</div>"
            ],
            "text/plain": [
              "        MSE      RMSE       MAE\n",
              "0  0.631055  0.794389  0.618961"
            ]
          },
          "metadata": {},
          "output_type": "display_data"
        },
        {
          "name": "stdout",
          "output_type": "stream",
          "text": [
            "Calculated metrics by leave-one-out method for userId = 75660: with pearson\n"
          ]
        },
        {
          "data": {
            "text/html": [
              "<div>\n",
              "<style scoped>\n",
              "    .dataframe tbody tr th:only-of-type {\n",
              "        vertical-align: middle;\n",
              "    }\n",
              "\n",
              "    .dataframe tbody tr th {\n",
              "        vertical-align: top;\n",
              "    }\n",
              "\n",
              "    .dataframe thead th {\n",
              "        text-align: right;\n",
              "    }\n",
              "</style>\n",
              "<table border=\"1\" class=\"dataframe\">\n",
              "  <thead>\n",
              "    <tr style=\"text-align: right;\">\n",
              "      <th></th>\n",
              "      <th>MSE</th>\n",
              "      <th>RMSE</th>\n",
              "      <th>MAE</th>\n",
              "    </tr>\n",
              "  </thead>\n",
              "  <tbody>\n",
              "    <tr>\n",
              "      <th>0</th>\n",
              "      <td>1.296606</td>\n",
              "      <td>1.138686</td>\n",
              "      <td>0.919796</td>\n",
              "    </tr>\n",
              "  </tbody>\n",
              "</table>\n",
              "</div>"
            ],
            "text/plain": [
              "        MSE      RMSE       MAE\n",
              "0  1.296606  1.138686  0.919796"
            ]
          },
          "metadata": {},
          "output_type": "display_data"
        }
      ],
      "source": [
        "viewed_movies = movieAndRating[movieAndRating['userId'] == myUserId]\n",
        "train_movies, test_movies = train_test_split(viewed_movies, test_size=0.33, random_state=42)\n",
        "\n",
        "predicted = count_recomended_2(test_movies, myUserId, False)\n",
        "predicted = predicted.rename(columns = {'score' : 'rating'})\n",
        "\n",
        "result = test_movies.merge(predicted, left_on='id', right_on='id', how='inner')\n",
        "\n",
        "metrics = calculateMetricsFromPairs(result['rating_x'].values, result['rating_y'].values)\n",
        "print(f'Calculated metrics by leave-one-out method for userId = {newUserId}:')\n",
        "display(metrics)\n",
        "\n",
        "predicted = count_recomended_2(test_movies, myUserId, True)\n",
        "predicted = predicted.rename(columns = {'score' : 'rating'})\n",
        "result = test_movies.merge(predicted, left_on='id', right_on='id', how='inner')\n",
        "\n",
        "metrics = calculateMetricsFromPairs(result['rating_x'].values, result['rating_y'].values)\n",
        "print(f'Calculated metrics by leave-one-out method for userId = {newUserId}: with pearson')\n",
        "display(metrics)"
      ]
    },
    {
      "cell_type": "code",
      "execution_count": null,
      "metadata": {
        "id": "16T0yoMDCNP2"
      },
      "outputs": [],
      "source": [
        "from sklearn.model_selection import train_test_split\n",
        "import math\n",
        "\n",
        "def splitTestAndPredict(myUserId, pearson):\n",
        "    viewed_movies = movieAndRating[movieAndRating['userId'] == myUserId]\n",
        "    train_movies, test_movies = train_test_split(viewed_movies, test_size=0.33, random_state=42)\n",
        "\n",
        "    predicted = count_recomended_2(test_movies, myUserId, pearson)\n",
        "    predicted = predicted.rename(columns = {'score' : 'rating'})\n",
        "\n",
        "    result = test_movies.merge(predicted, left_on='id', right_on='id', how='inner')\n",
        "\n",
        "    return result[['id','rating_x', 'rating_y']]"
      ]
    },
    {
      "cell_type": "code",
      "execution_count": null,
      "metadata": {
        "id": "T4KbRJVUNqyM"
      },
      "outputs": [],
      "source": [
        "result = splitTestAndPredict(myUserId, False)"
      ]
    },
    {
      "cell_type": "code",
      "execution_count": null,
      "metadata": {
        "colab": {
          "base_uri": "https://localhost:8080/",
          "height": 99
        },
        "id": "5iEBRDMrOwrh",
        "outputId": "952729eb-a024-4b2a-d6f7-0108eb20c944"
      },
      "outputs": [
        {
          "name": "stdout",
          "output_type": "stream",
          "text": [
            "Calculated metrics by leave-one-out method for userId = 75660:\n"
          ]
        },
        {
          "data": {
            "text/html": [
              "<div>\n",
              "<style scoped>\n",
              "    .dataframe tbody tr th:only-of-type {\n",
              "        vertical-align: middle;\n",
              "    }\n",
              "\n",
              "    .dataframe tbody tr th {\n",
              "        vertical-align: top;\n",
              "    }\n",
              "\n",
              "    .dataframe thead th {\n",
              "        text-align: right;\n",
              "    }\n",
              "</style>\n",
              "<table border=\"1\" class=\"dataframe\">\n",
              "  <thead>\n",
              "    <tr style=\"text-align: right;\">\n",
              "      <th></th>\n",
              "      <th>MSE</th>\n",
              "      <th>RMSE</th>\n",
              "      <th>MAE</th>\n",
              "    </tr>\n",
              "  </thead>\n",
              "  <tbody>\n",
              "    <tr>\n",
              "      <th>0</th>\n",
              "      <td>0.631055</td>\n",
              "      <td>0.794389</td>\n",
              "      <td>0.618961</td>\n",
              "    </tr>\n",
              "  </tbody>\n",
              "</table>\n",
              "</div>"
            ],
            "text/plain": [
              "        MSE      RMSE       MAE\n",
              "0  0.631055  0.794389  0.618961"
            ]
          },
          "execution_count": 817,
          "metadata": {},
          "output_type": "execute_result"
        }
      ],
      "source": [
        "print(f'Calculated metrics by leave-one-out method for userId = {newUserId}:')\n",
        "calculateMetricsFromPairs(result['rating_x'].values, result['rating_y'].values)"
      ]
    },
    {
      "cell_type": "code",
      "execution_count": null,
      "metadata": {
        "id": "l_v6ZfsMN5_8"
      },
      "outputs": [],
      "source": [
        "random_users = critics.sample(150).userId.values\n",
        "results = pd.DataFrame()\n",
        "\n",
        "for us in random_users:\n",
        "  temp = splitTestAndPredict(us, True)\n",
        "  metrics = calculateMetricsFromPairs(temp['rating_x'].values, temp['rating_y'].values)\n",
        "  results = results.append(metrics)"
      ]
    },
    {
      "cell_type": "code",
      "execution_count": null,
      "metadata": {
        "colab": {
          "base_uri": "https://localhost:8080/"
        },
        "id": "u_SRlhL9Aty9",
        "outputId": "d58b7497-1823-4d81-da4d-7fd124d258ce"
      },
      "outputs": [
        {
          "data": {
            "text/plain": [
              "MSE     0.856058\n",
              "RMSE    0.893827\n",
              "MAE     0.709377\n",
              "dtype: float64"
            ]
          },
          "execution_count": 819,
          "metadata": {},
          "output_type": "execute_result"
        }
      ],
      "source": [
        "results.mean()"
      ]
    },
    {
      "cell_type": "markdown",
      "metadata": {
        "id": "SnJ-QpZlUB68"
      },
      "source": [
        "## Задание 6"
      ]
    },
    {
      "cell_type": "markdown",
      "metadata": {
        "id": "tQDKWRhDUbIr"
      },
      "source": [
        "Используйте метод Term Frequency Inverse Document Frequency (TF-IDF), чтобы отфильтровать фильмы, похожие (используйте для этого косинусное расстояние) на те, которые пользователь высоко оценил.\n",
        "\n",
        "Оцените качество такой рекомендации."
      ]
    },
    {
      "cell_type": "code",
      "execution_count": null,
      "metadata": {
        "id": "-FtzrGJRuvGe"
      },
      "outputs": [],
      "source": [
        "#%%capture\n",
        "#!pip install pymorphy2"
      ]
    },
    {
      "cell_type": "code",
      "execution_count": null,
      "metadata": {
        "id": "kSJ0lDWi-6EI"
      },
      "outputs": [],
      "source": [
        "#%%capture\n",
        "#!pip install nltk"
      ]
    },
    {
      "cell_type": "code",
      "execution_count": null,
      "metadata": {
        "colab": {
          "base_uri": "https://localhost:8080/"
        },
        "id": "nG3QgnIshb8T",
        "outputId": "2e939305-97b3-437a-fad1-0da6d09dfc27"
      },
      "outputs": [
        {
          "name": "stderr",
          "output_type": "stream",
          "text": [
            "[nltk_data] Downloading package punkt to /Users/macbook/nltk_data...\n",
            "[nltk_data]   Package punkt is already up-to-date!\n"
          ]
        }
      ],
      "source": [
        "import string\n",
        "import ssl\n",
        "import nltk\n",
        "\n",
        "try:\n",
        "    _create_unverified_https_context = ssl._create_unverified_context\n",
        "except AttributeError:\n",
        "    pass\n",
        "else:\n",
        "    ssl._create_default_https_context = _create_unverified_https_context\n",
        "\n",
        "nltk.download('punkt')\n",
        "from nltk.tokenize import word_tokenize\n",
        "import pymorphy2"
      ]
    },
    {
      "cell_type": "code",
      "execution_count": null,
      "metadata": {
        "colab": {
          "base_uri": "https://localhost:8080/"
        },
        "id": "FAxcgWf8vXGa",
        "outputId": "715e4b65-dadf-45e5-9ef6-b232484140e2"
      },
      "outputs": [
        {
          "name": "stderr",
          "output_type": "stream",
          "text": [
            "[nltk_data] Downloading package stopwords to\n",
            "[nltk_data]     /Users/macbook/nltk_data...\n",
            "[nltk_data]   Package stopwords is already up-to-date!\n"
          ]
        },
        {
          "data": {
            "text/plain": [
              "True"
            ]
          },
          "execution_count": 752,
          "metadata": {},
          "output_type": "execute_result"
        }
      ],
      "source": [
        "import nltk\n",
        "nltk.download('stopwords')"
      ]
    },
    {
      "cell_type": "code",
      "execution_count": null,
      "metadata": {
        "id": "l21COeaWvMg_"
      },
      "outputs": [],
      "source": [
        "from nltk.corpus import stopwords\n",
        "stop = stopwords.words('english')"
      ]
    },
    {
      "cell_type": "code",
      "execution_count": null,
      "metadata": {
        "id": "hCXrwny-ADA9"
      },
      "outputs": [],
      "source": [
        "test = movieAndRating.copy()\n",
        "test = test[['id', 'imdb_id', 'overview', 'title']]\n",
        "test = test.drop_duplicates()"
      ]
    },
    {
      "cell_type": "code",
      "execution_count": null,
      "metadata": {
        "id": "Lx3Xo4gUBA1C"
      },
      "outputs": [],
      "source": [
        "for ch in string.punctuation:\n",
        "  test['overview'] = test['overview'].apply(lambda x: x.replace(ch,\"\"))\n",
        "\n",
        "test['overview'] = test['overview'].apply(lambda x: x.lower())\n",
        "\n",
        "test['overview'] = test['overview'].apply(word_tokenize)\n",
        "\n",
        "test['overview']  = test['overview'].apply(lambda x: [word for word in x if word not in (stop)])\n",
        "\n",
        "test['overview'] = test['overview'].apply(lambda x: [word.replace(\"'s\", \"\") for word in x ])\n",
        "\n",
        "analyzer = pymorphy2.MorphAnalyzer()\n",
        "test['overview'] = test['overview'].apply(\n",
        "                    lambda lst: [analyzer.parse(word) for word in lst])\n",
        "\n",
        "test['overview']  = test['overview'].apply(lambda x: [word for word in x if word not in (stop)])\n",
        "\n",
        "test['overview']  = test['overview'].apply(lambda x: ' '.join([str(word[0].normal_form) for word in x]))"
      ]
    },
    {
      "cell_type": "code",
      "execution_count": null,
      "metadata": {
        "id": "O7FRAbwtGORI"
      },
      "outputs": [],
      "source": [
        "from sklearn.feature_extraction.text import TfidfVectorizer\n",
        "from sklearn.metrics.pairwise import linear_kernel\n",
        "\n",
        "def calculateSimilarFilms(df, movieId):\n",
        "    temp = df.copy()\n",
        "\n",
        "    tfidf = TfidfVectorizer()\n",
        "    mx_tf = tfidf.fit_transform(temp['overview'])\n",
        "\n",
        "    find_nearest_to = temp[temp['id'] == movieId]['overview'].values[0]\n",
        "    new_entry = tfidf.transform([find_nearest_to])\n",
        "\n",
        "    cosine_similarities = linear_kernel(new_entry, mx_tf).flatten()\n",
        "    temp['cos_similarities'] = cosine_similarities\n",
        "    temp['similar_to'] = movieId\n",
        "\n",
        "    return temp \\\n",
        "        .sort_values(by=['cos_similarities'], ascending=[0]) \\\n",
        "        .head(6) \\\n",
        "        .tail(5)"
      ]
    },
    {
      "cell_type": "code",
      "execution_count": null,
      "metadata": {
        "colab": {
          "base_uri": "https://localhost:8080/",
          "height": 206
        },
        "id": "DBvrnXEcHJHD",
        "outputId": "a493efcc-182f-4f6f-c654-0395b8516cb2"
      },
      "outputs": [
        {
          "data": {
            "text/html": [
              "<div>\n",
              "<style scoped>\n",
              "    .dataframe tbody tr th:only-of-type {\n",
              "        vertical-align: middle;\n",
              "    }\n",
              "\n",
              "    .dataframe tbody tr th {\n",
              "        vertical-align: top;\n",
              "    }\n",
              "\n",
              "    .dataframe thead th {\n",
              "        text-align: right;\n",
              "    }\n",
              "</style>\n",
              "<table border=\"1\" class=\"dataframe\">\n",
              "  <thead>\n",
              "    <tr style=\"text-align: right;\">\n",
              "      <th></th>\n",
              "      <th>id</th>\n",
              "      <th>imdb_id</th>\n",
              "      <th>overview</th>\n",
              "      <th>title</th>\n",
              "      <th>cos_similarities</th>\n",
              "      <th>similar_to</th>\n",
              "    </tr>\n",
              "  </thead>\n",
              "  <tbody>\n",
              "    <tr>\n",
              "      <th>479971</th>\n",
              "      <td>2246</td>\n",
              "      <td>tt0107497</td>\n",
              "      <td>tale happily married couple would like childre...</td>\n",
              "      <td>Malice</td>\n",
              "      <td>0.174483</td>\n",
              "      <td>862</td>\n",
              "    </tr>\n",
              "    <tr>\n",
              "      <th>10400764</th>\n",
              "      <td>159201</td>\n",
              "      <td>tt0280000</td>\n",
              "      <td>ozzie young koala living australia kidnapped t...</td>\n",
              "      <td>Ozzie</td>\n",
              "      <td>0.129984</td>\n",
              "      <td>862</td>\n",
              "    </tr>\n",
              "    <tr>\n",
              "      <th>9847002</th>\n",
              "      <td>123235</td>\n",
              "      <td>tt1885331</td>\n",
              "      <td>paris pharmacist alice obsessed woody allen fa...</td>\n",
              "      <td>Paris-Manhattan</td>\n",
              "      <td>0.121163</td>\n",
              "      <td>862</td>\n",
              "    </tr>\n",
              "    <tr>\n",
              "      <th>9917821</th>\n",
              "      <td>117428</td>\n",
              "      <td>tt0062492</td>\n",
              "      <td>norman mailer ’ first feature filmmaking effor...</td>\n",
              "      <td>Wild 90</td>\n",
              "      <td>0.117878</td>\n",
              "      <td>862</td>\n",
              "    </tr>\n",
              "    <tr>\n",
              "      <th>2388455</th>\n",
              "      <td>4478</td>\n",
              "      <td>tt0107211</td>\n",
              "      <td>robert redford stars billionaire john gage off...</td>\n",
              "      <td>Indecent Proposal</td>\n",
              "      <td>0.117254</td>\n",
              "      <td>862</td>\n",
              "    </tr>\n",
              "  </tbody>\n",
              "</table>\n",
              "</div>"
            ],
            "text/plain": [
              "              id    imdb_id  \\\n",
              "479971      2246  tt0107497   \n",
              "10400764  159201  tt0280000   \n",
              "9847002   123235  tt1885331   \n",
              "9917821   117428  tt0062492   \n",
              "2388455     4478  tt0107211   \n",
              "\n",
              "                                                   overview  \\\n",
              "479971    tale happily married couple would like childre...   \n",
              "10400764  ozzie young koala living australia kidnapped t...   \n",
              "9847002   paris pharmacist alice obsessed woody allen fa...   \n",
              "9917821   norman mailer ’ first feature filmmaking effor...   \n",
              "2388455   robert redford stars billionaire john gage off...   \n",
              "\n",
              "                      title  cos_similarities  similar_to  \n",
              "479971               Malice          0.174483         862  \n",
              "10400764              Ozzie          0.129984         862  \n",
              "9847002     Paris-Manhattan          0.121163         862  \n",
              "9917821             Wild 90          0.117878         862  \n",
              "2388455   Indecent Proposal          0.117254         862  "
            ]
          },
          "execution_count": 759,
          "metadata": {},
          "output_type": "execute_result"
        }
      ],
      "source": [
        "calculateSimilarFilms(test, 862)"
      ]
    },
    {
      "cell_type": "code",
      "execution_count": null,
      "metadata": {
        "colab": {
          "base_uri": "https://localhost:8080/"
        },
        "id": "hpkrnddjRYlJ",
        "outputId": "666849ca-1fdb-41bd-cbd4-d88f94ff3dc6"
      },
      "outputs": [
        {
          "data": {
            "text/plain": [
              "181855"
            ]
          },
          "execution_count": 760,
          "metadata": {},
          "output_type": "execute_result"
        }
      ],
      "source": [
        "random_users = (ratings.groupby('userId')['rating'].count() < 50).reset_index()\n",
        "random_users = random_users[random_users['rating'] == True].sample(1).userId.values\n",
        "\n",
        "myUserId = random_users[0]\n",
        "myUserId"
      ]
    },
    {
      "cell_type": "code",
      "execution_count": null,
      "metadata": {
        "colab": {
          "base_uri": "https://localhost:8080/"
        },
        "id": "UoUQLhPpMGCZ",
        "outputId": "68ec18e9-6349-4134-e314-2787a8c80022"
      },
      "outputs": [
        {
          "data": {
            "text/plain": [
              "14"
            ]
          },
          "execution_count": 761,
          "metadata": {},
          "output_type": "execute_result"
        }
      ],
      "source": [
        "len(ratings[ratings['userId'] == myUserId])"
      ]
    },
    {
      "cell_type": "code",
      "execution_count": null,
      "metadata": {
        "colab": {
          "base_uri": "https://localhost:8080/",
          "height": 175
        },
        "id": "B0yMcaZQxcNP",
        "outputId": "43452f17-29a9-4a94-f47a-0c116537f68f"
      },
      "outputs": [
        {
          "data": {
            "text/html": [
              "<div>\n",
              "<style scoped>\n",
              "    .dataframe tbody tr th:only-of-type {\n",
              "        vertical-align: middle;\n",
              "    }\n",
              "\n",
              "    .dataframe tbody tr th {\n",
              "        vertical-align: top;\n",
              "    }\n",
              "\n",
              "    .dataframe thead th {\n",
              "        text-align: right;\n",
              "    }\n",
              "</style>\n",
              "<table border=\"1\" class=\"dataframe\">\n",
              "  <thead>\n",
              "    <tr style=\"text-align: right;\">\n",
              "      <th></th>\n",
              "      <th>id</th>\n",
              "      <th>imdb_id</th>\n",
              "      <th>overview</th>\n",
              "      <th>title</th>\n",
              "      <th>userId</th>\n",
              "      <th>rating</th>\n",
              "      <th>timestamp</th>\n",
              "    </tr>\n",
              "  </thead>\n",
              "  <tbody>\n",
              "    <tr>\n",
              "      <th>215373</th>\n",
              "      <td>527</td>\n",
              "      <td>tt0110729</td>\n",
              "      <td>A drama about a Maori family lving in Auckland...</td>\n",
              "      <td>Once Were Warriors</td>\n",
              "      <td>181855</td>\n",
              "      <td>5.0</td>\n",
              "      <td>951063693</td>\n",
              "    </tr>\n",
              "    <tr>\n",
              "      <th>2801576</th>\n",
              "      <td>3175</td>\n",
              "      <td>tt0072684</td>\n",
              "      <td>In the Eighteenth Century, in a small village ...</td>\n",
              "      <td>Barry Lyndon</td>\n",
              "      <td>181855</td>\n",
              "      <td>5.0</td>\n",
              "      <td>951063782</td>\n",
              "    </tr>\n",
              "    <tr>\n",
              "      <th>3306541</th>\n",
              "      <td>3114</td>\n",
              "      <td>tt0049730</td>\n",
              "      <td>As a Civil War veteran spends years searching ...</td>\n",
              "      <td>The Searchers</td>\n",
              "      <td>181855</td>\n",
              "      <td>4.0</td>\n",
              "      <td>951063768</td>\n",
              "    </tr>\n",
              "    <tr>\n",
              "      <th>4338546</th>\n",
              "      <td>2770</td>\n",
              "      <td>tt0252866</td>\n",
              "      <td>The whole gang are back and as close as ever. ...</td>\n",
              "      <td>American Pie 2</td>\n",
              "      <td>181855</td>\n",
              "      <td>5.0</td>\n",
              "      <td>951063925</td>\n",
              "    </tr>\n",
              "  </tbody>\n",
              "</table>\n",
              "</div>"
            ],
            "text/plain": [
              "           id    imdb_id                                           overview  \\\n",
              "215373    527  tt0110729  A drama about a Maori family lving in Auckland...   \n",
              "2801576  3175  tt0072684  In the Eighteenth Century, in a small village ...   \n",
              "3306541  3114  tt0049730  As a Civil War veteran spends years searching ...   \n",
              "4338546  2770  tt0252866  The whole gang are back and as close as ever. ...   \n",
              "\n",
              "                      title  userId  rating  timestamp  \n",
              "215373   Once Were Warriors  181855     5.0  951063693  \n",
              "2801576        Barry Lyndon  181855     5.0  951063782  \n",
              "3306541       The Searchers  181855     4.0  951063768  \n",
              "4338546      American Pie 2  181855     5.0  951063925  "
            ]
          },
          "execution_count": 762,
          "metadata": {},
          "output_type": "execute_result"
        }
      ],
      "source": [
        "myUserLikedFilms = movieAndRating[(movieAndRating['userId'] == myUserId) & (movieAndRating['rating'] >= 4.0)]\n",
        "myUserLikedFilms"
      ]
    },
    {
      "cell_type": "code",
      "execution_count": null,
      "metadata": {
        "colab": {
          "base_uri": "https://localhost:8080/"
        },
        "id": "cDPurbn9MzB5",
        "outputId": "a9b691b2-45ae-4e43-a15e-3f85cc2491ca"
      },
      "outputs": [
        {
          "data": {
            "text/plain": [
              "array([ 527, 3175, 3114, 2770])"
            ]
          },
          "execution_count": 763,
          "metadata": {},
          "output_type": "execute_result"
        }
      ],
      "source": [
        " myUserLikedFilms_Ids = myUserLikedFilms['id'].values\n",
        " myUserLikedFilms_Ids"
      ]
    },
    {
      "cell_type": "code",
      "execution_count": null,
      "metadata": {
        "id": "dOSRdAOvNP6q"
      },
      "outputs": [],
      "source": [
        "simFilms = {}\n",
        "\n",
        "for id in myUserLikedFilms_Ids:\n",
        "  simFilms[id] = calculateSimilarFilms(test, id)"
      ]
    },
    {
      "cell_type": "code",
      "execution_count": null,
      "metadata": {
        "colab": {
          "base_uri": "https://localhost:8080/",
          "height": 206
        },
        "id": "g2n1ti6oN32r",
        "outputId": "6ac8dfdd-c4ed-4cc8-c617-b64c1a7c4665"
      },
      "outputs": [
        {
          "data": {
            "text/html": [
              "<div>\n",
              "<style scoped>\n",
              "    .dataframe tbody tr th:only-of-type {\n",
              "        vertical-align: middle;\n",
              "    }\n",
              "\n",
              "    .dataframe tbody tr th {\n",
              "        vertical-align: top;\n",
              "    }\n",
              "\n",
              "    .dataframe thead th {\n",
              "        text-align: right;\n",
              "    }\n",
              "</style>\n",
              "<table border=\"1\" class=\"dataframe\">\n",
              "  <thead>\n",
              "    <tr style=\"text-align: right;\">\n",
              "      <th></th>\n",
              "      <th>id</th>\n",
              "      <th>imdb_id</th>\n",
              "      <th>overview</th>\n",
              "      <th>title</th>\n",
              "      <th>cos_similarities</th>\n",
              "      <th>similar_to</th>\n",
              "    </tr>\n",
              "  </thead>\n",
              "  <tbody>\n",
              "    <tr>\n",
              "      <th>10274539</th>\n",
              "      <td>53766</td>\n",
              "      <td>tt0011865</td>\n",
              "      <td>robert beth bordon married share little runs s...</td>\n",
              "      <td>Why Change Your Wife?</td>\n",
              "      <td>0.114926</td>\n",
              "      <td>527</td>\n",
              "    </tr>\n",
              "    <tr>\n",
              "      <th>5052178</th>\n",
              "      <td>99826</td>\n",
              "      <td>tt0271020</td>\n",
              "      <td>failed new jersey inventor embarks career stan...</td>\n",
              "      <td>The Jimmy Show</td>\n",
              "      <td>0.107521</td>\n",
              "      <td>527</td>\n",
              "    </tr>\n",
              "    <tr>\n",
              "      <th>10071003</th>\n",
              "      <td>142106</td>\n",
              "      <td>tt1826813</td>\n",
              "      <td>story family whose growth stunted family learn...</td>\n",
              "      <td>Petunia</td>\n",
              "      <td>0.102834</td>\n",
              "      <td>527</td>\n",
              "    </tr>\n",
              "    <tr>\n",
              "      <th>6946345</th>\n",
              "      <td>363</td>\n",
              "      <td>tt0347048</td>\n",
              "      <td>head german director fatih akin ’ story alcoho...</td>\n",
              "      <td>Head-On</td>\n",
              "      <td>0.101902</td>\n",
              "      <td>527</td>\n",
              "    </tr>\n",
              "    <tr>\n",
              "      <th>7357400</th>\n",
              "      <td>349</td>\n",
              "      <td>tt0428430</td>\n",
              "      <td>crustaces et coquillages fresh french comedy f...</td>\n",
              "      <td>Cockles and Muscles</td>\n",
              "      <td>0.100265</td>\n",
              "      <td>527</td>\n",
              "    </tr>\n",
              "  </tbody>\n",
              "</table>\n",
              "</div>"
            ],
            "text/plain": [
              "              id    imdb_id  \\\n",
              "10274539   53766  tt0011865   \n",
              "5052178    99826  tt0271020   \n",
              "10071003  142106  tt1826813   \n",
              "6946345      363  tt0347048   \n",
              "7357400      349  tt0428430   \n",
              "\n",
              "                                                   overview  \\\n",
              "10274539  robert beth bordon married share little runs s...   \n",
              "5052178   failed new jersey inventor embarks career stan...   \n",
              "10071003  story family whose growth stunted family learn...   \n",
              "6946345   head german director fatih akin ’ story alcoho...   \n",
              "7357400   crustaces et coquillages fresh french comedy f...   \n",
              "\n",
              "                          title  cos_similarities  similar_to  \n",
              "10274539  Why Change Your Wife?          0.114926         527  \n",
              "5052178          The Jimmy Show          0.107521         527  \n",
              "10071003                Petunia          0.102834         527  \n",
              "6946345                 Head-On          0.101902         527  \n",
              "7357400     Cockles and Muscles          0.100265         527  "
            ]
          },
          "execution_count": 765,
          "metadata": {},
          "output_type": "execute_result"
        }
      ],
      "source": [
        "simFilms[myUserLikedFilms_Ids[0]]"
      ]
    },
    {
      "cell_type": "code",
      "execution_count": null,
      "metadata": {
        "colab": {
          "base_uri": "https://localhost:8080/",
          "height": 206
        },
        "id": "rO9v3pN2OGVk",
        "outputId": "0b36f28d-46ab-45cc-a79d-fe512bdaaf03"
      },
      "outputs": [
        {
          "data": {
            "text/html": [
              "<div>\n",
              "<style scoped>\n",
              "    .dataframe tbody tr th:only-of-type {\n",
              "        vertical-align: middle;\n",
              "    }\n",
              "\n",
              "    .dataframe tbody tr th {\n",
              "        vertical-align: top;\n",
              "    }\n",
              "\n",
              "    .dataframe thead th {\n",
              "        text-align: right;\n",
              "    }\n",
              "</style>\n",
              "<table border=\"1\" class=\"dataframe\">\n",
              "  <thead>\n",
              "    <tr style=\"text-align: right;\">\n",
              "      <th></th>\n",
              "      <th>id</th>\n",
              "      <th>imdb_id</th>\n",
              "      <th>overview</th>\n",
              "      <th>title</th>\n",
              "      <th>cos_similarities</th>\n",
              "      <th>similar_to</th>\n",
              "    </tr>\n",
              "  </thead>\n",
              "  <tbody>\n",
              "    <tr>\n",
              "      <th>7527671</th>\n",
              "      <td>5741</td>\n",
              "      <td>tt0058301</td>\n",
              "      <td>lorna married jim year still hasnt satisfied s...</td>\n",
              "      <td>Lorna</td>\n",
              "      <td>0.160044</td>\n",
              "      <td>2770</td>\n",
              "    </tr>\n",
              "    <tr>\n",
              "      <th>5415755</th>\n",
              "      <td>8273</td>\n",
              "      <td>tt0328828</td>\n",
              "      <td>high school distant memory jim michelle gettin...</td>\n",
              "      <td>American Wedding</td>\n",
              "      <td>0.150007</td>\n",
              "      <td>2770</td>\n",
              "    </tr>\n",
              "    <tr>\n",
              "      <th>9667517</th>\n",
              "      <td>26831</td>\n",
              "      <td>tt0070788</td>\n",
              "      <td>britain 1958 restless school bored life jim le...</td>\n",
              "      <td>That'll Be The Day</td>\n",
              "      <td>0.149522</td>\n",
              "      <td>2770</td>\n",
              "    </tr>\n",
              "    <tr>\n",
              "      <th>7194451</th>\n",
              "      <td>8976</td>\n",
              "      <td>tt0391304</td>\n",
              "      <td>flight los angeles new york oliver emily make ...</td>\n",
              "      <td>A Lot Like Love</td>\n",
              "      <td>0.124980</td>\n",
              "      <td>2770</td>\n",
              "    </tr>\n",
              "    <tr>\n",
              "      <th>9428557</th>\n",
              "      <td>86664</td>\n",
              "      <td>tt0160440</td>\n",
              "      <td>spending summer exotic beach two brothers fall...</td>\n",
              "      <td>Crazed Fruit</td>\n",
              "      <td>0.119505</td>\n",
              "      <td>2770</td>\n",
              "    </tr>\n",
              "  </tbody>\n",
              "</table>\n",
              "</div>"
            ],
            "text/plain": [
              "            id    imdb_id                                           overview  \\\n",
              "7527671   5741  tt0058301  lorna married jim year still hasnt satisfied s...   \n",
              "5415755   8273  tt0328828  high school distant memory jim michelle gettin...   \n",
              "9667517  26831  tt0070788  britain 1958 restless school bored life jim le...   \n",
              "7194451   8976  tt0391304  flight los angeles new york oliver emily make ...   \n",
              "9428557  86664  tt0160440  spending summer exotic beach two brothers fall...   \n",
              "\n",
              "                      title  cos_similarities  similar_to  \n",
              "7527671               Lorna          0.160044        2770  \n",
              "5415755    American Wedding          0.150007        2770  \n",
              "9667517  That'll Be The Day          0.149522        2770  \n",
              "7194451     A Lot Like Love          0.124980        2770  \n",
              "9428557        Crazed Fruit          0.119505        2770  "
            ]
          },
          "execution_count": 766,
          "metadata": {},
          "output_type": "execute_result"
        }
      ],
      "source": [
        "simFilms[myUserLikedFilms_Ids[len(myUserLikedFilms_Ids) - 1 ]]"
      ]
    },
    {
      "cell_type": "code",
      "execution_count": null,
      "metadata": {
        "colab": {
          "base_uri": "https://localhost:8080/",
          "height": 677
        },
        "id": "d0_aTbR2R6GL",
        "outputId": "31f19669-8527-43ed-9508-8c107467c4b3"
      },
      "outputs": [
        {
          "data": {
            "text/html": [
              "<div>\n",
              "<style scoped>\n",
              "    .dataframe tbody tr th:only-of-type {\n",
              "        vertical-align: middle;\n",
              "    }\n",
              "\n",
              "    .dataframe tbody tr th {\n",
              "        vertical-align: top;\n",
              "    }\n",
              "\n",
              "    .dataframe thead th {\n",
              "        text-align: right;\n",
              "    }\n",
              "</style>\n",
              "<table border=\"1\" class=\"dataframe\">\n",
              "  <thead>\n",
              "    <tr style=\"text-align: right;\">\n",
              "      <th></th>\n",
              "      <th>id</th>\n",
              "      <th>imdb_id</th>\n",
              "      <th>overview</th>\n",
              "      <th>title</th>\n",
              "      <th>cos_similarities</th>\n",
              "      <th>similar_to</th>\n",
              "    </tr>\n",
              "  </thead>\n",
              "  <tbody>\n",
              "    <tr>\n",
              "      <th>10274539</th>\n",
              "      <td>53766</td>\n",
              "      <td>tt0011865</td>\n",
              "      <td>robert beth bordon married share little runs s...</td>\n",
              "      <td>Why Change Your Wife?</td>\n",
              "      <td>0.114926</td>\n",
              "      <td>527</td>\n",
              "    </tr>\n",
              "    <tr>\n",
              "      <th>5052178</th>\n",
              "      <td>99826</td>\n",
              "      <td>tt0271020</td>\n",
              "      <td>failed new jersey inventor embarks career stan...</td>\n",
              "      <td>The Jimmy Show</td>\n",
              "      <td>0.107521</td>\n",
              "      <td>527</td>\n",
              "    </tr>\n",
              "    <tr>\n",
              "      <th>10071003</th>\n",
              "      <td>142106</td>\n",
              "      <td>tt1826813</td>\n",
              "      <td>story family whose growth stunted family learn...</td>\n",
              "      <td>Petunia</td>\n",
              "      <td>0.102834</td>\n",
              "      <td>527</td>\n",
              "    </tr>\n",
              "    <tr>\n",
              "      <th>6946345</th>\n",
              "      <td>363</td>\n",
              "      <td>tt0347048</td>\n",
              "      <td>head german director fatih akin ’ story alcoho...</td>\n",
              "      <td>Head-On</td>\n",
              "      <td>0.101902</td>\n",
              "      <td>527</td>\n",
              "    </tr>\n",
              "    <tr>\n",
              "      <th>7357400</th>\n",
              "      <td>349</td>\n",
              "      <td>tt0428430</td>\n",
              "      <td>crustaces et coquillages fresh french comedy f...</td>\n",
              "      <td>Cockles and Muscles</td>\n",
              "      <td>0.100265</td>\n",
              "      <td>527</td>\n",
              "    </tr>\n",
              "    <tr>\n",
              "      <th>9727601</th>\n",
              "      <td>79723</td>\n",
              "      <td>tt2043932</td>\n",
              "      <td>gerrie richard rikkert robbie barry maaskantje...</td>\n",
              "      <td>New Kids Nitro</td>\n",
              "      <td>0.156060</td>\n",
              "      <td>3175</td>\n",
              "    </tr>\n",
              "    <tr>\n",
              "      <th>1718474</th>\n",
              "      <td>56651</td>\n",
              "      <td>tt0119457</td>\n",
              "      <td>redmond young guy cant find life uncle sam giv...</td>\n",
              "      <td>Kicked in the Head</td>\n",
              "      <td>0.131503</td>\n",
              "      <td>3175</td>\n",
              "    </tr>\n",
              "    <tr>\n",
              "      <th>7860353</th>\n",
              "      <td>1116</td>\n",
              "      <td>tt0460989</td>\n",
              "      <td>1920s ireland young doctor damien odonovan pre...</td>\n",
              "      <td>The Wind That Shakes the Barley</td>\n",
              "      <td>0.115236</td>\n",
              "      <td>3175</td>\n",
              "    </tr>\n",
              "    <tr>\n",
              "      <th>896390</th>\n",
              "      <td>819</td>\n",
              "      <td>tt0117665</td>\n",
              "      <td>two gangsters seek revenge state jail worker s...</td>\n",
              "      <td>Sleepers</td>\n",
              "      <td>0.113337</td>\n",
              "      <td>3175</td>\n",
              "    </tr>\n",
              "    <tr>\n",
              "      <th>746205</th>\n",
              "      <td>3529</td>\n",
              "      <td>tt0025878</td>\n",
              "      <td>four year absence one time detective nick char...</td>\n",
              "      <td>The Thin Man</td>\n",
              "      <td>0.109264</td>\n",
              "      <td>3175</td>\n",
              "    </tr>\n",
              "    <tr>\n",
              "      <th>9667539</th>\n",
              "      <td>47956</td>\n",
              "      <td>tt0078007</td>\n",
              "      <td>11thcentury viking prince sails america find f...</td>\n",
              "      <td>The Norseman</td>\n",
              "      <td>0.164749</td>\n",
              "      <td>3114</td>\n",
              "    </tr>\n",
              "    <tr>\n",
              "      <th>10564840</th>\n",
              "      <td>139159</td>\n",
              "      <td>tt2194497</td>\n",
              "      <td>young woman tries adjust freedom spends eight ...</td>\n",
              "      <td>Coming Home</td>\n",
              "      <td>0.144603</td>\n",
              "      <td>3114</td>\n",
              "    </tr>\n",
              "    <tr>\n",
              "      <th>10557849</th>\n",
              "      <td>4049</td>\n",
              "      <td>tt0077615</td>\n",
              "      <td>man wrongfully imprisoned five years hears wif...</td>\n",
              "      <td>The Glass Cell</td>\n",
              "      <td>0.131953</td>\n",
              "      <td>3114</td>\n",
              "    </tr>\n",
              "    <tr>\n",
              "      <th>8523508</th>\n",
              "      <td>5176</td>\n",
              "      <td>tt0381849</td>\n",
              "      <td>arizona late 1800s infamous outlaw ben wade vi...</td>\n",
              "      <td>3:10 to Yuma</td>\n",
              "      <td>0.128457</td>\n",
              "      <td>3114</td>\n",
              "    </tr>\n",
              "    <tr>\n",
              "      <th>6346518</th>\n",
              "      <td>73194</td>\n",
              "      <td>tt0031252</td>\n",
              "      <td>set americas colonial period john fords advent...</td>\n",
              "      <td>Drums Along the Mohawk</td>\n",
              "      <td>0.123954</td>\n",
              "      <td>3114</td>\n",
              "    </tr>\n",
              "    <tr>\n",
              "      <th>7527671</th>\n",
              "      <td>5741</td>\n",
              "      <td>tt0058301</td>\n",
              "      <td>lorna married jim year still hasnt satisfied s...</td>\n",
              "      <td>Lorna</td>\n",
              "      <td>0.160044</td>\n",
              "      <td>2770</td>\n",
              "    </tr>\n",
              "    <tr>\n",
              "      <th>5415755</th>\n",
              "      <td>8273</td>\n",
              "      <td>tt0328828</td>\n",
              "      <td>high school distant memory jim michelle gettin...</td>\n",
              "      <td>American Wedding</td>\n",
              "      <td>0.150007</td>\n",
              "      <td>2770</td>\n",
              "    </tr>\n",
              "    <tr>\n",
              "      <th>9667517</th>\n",
              "      <td>26831</td>\n",
              "      <td>tt0070788</td>\n",
              "      <td>britain 1958 restless school bored life jim le...</td>\n",
              "      <td>That'll Be The Day</td>\n",
              "      <td>0.149522</td>\n",
              "      <td>2770</td>\n",
              "    </tr>\n",
              "    <tr>\n",
              "      <th>7194451</th>\n",
              "      <td>8976</td>\n",
              "      <td>tt0391304</td>\n",
              "      <td>flight los angeles new york oliver emily make ...</td>\n",
              "      <td>A Lot Like Love</td>\n",
              "      <td>0.124980</td>\n",
              "      <td>2770</td>\n",
              "    </tr>\n",
              "    <tr>\n",
              "      <th>9428557</th>\n",
              "      <td>86664</td>\n",
              "      <td>tt0160440</td>\n",
              "      <td>spending summer exotic beach two brothers fall...</td>\n",
              "      <td>Crazed Fruit</td>\n",
              "      <td>0.119505</td>\n",
              "      <td>2770</td>\n",
              "    </tr>\n",
              "  </tbody>\n",
              "</table>\n",
              "</div>"
            ],
            "text/plain": [
              "              id    imdb_id  \\\n",
              "10274539   53766  tt0011865   \n",
              "5052178    99826  tt0271020   \n",
              "10071003  142106  tt1826813   \n",
              "6946345      363  tt0347048   \n",
              "7357400      349  tt0428430   \n",
              "9727601    79723  tt2043932   \n",
              "1718474    56651  tt0119457   \n",
              "7860353     1116  tt0460989   \n",
              "896390       819  tt0117665   \n",
              "746205      3529  tt0025878   \n",
              "9667539    47956  tt0078007   \n",
              "10564840  139159  tt2194497   \n",
              "10557849    4049  tt0077615   \n",
              "8523508     5176  tt0381849   \n",
              "6346518    73194  tt0031252   \n",
              "7527671     5741  tt0058301   \n",
              "5415755     8273  tt0328828   \n",
              "9667517    26831  tt0070788   \n",
              "7194451     8976  tt0391304   \n",
              "9428557    86664  tt0160440   \n",
              "\n",
              "                                                   overview  \\\n",
              "10274539  robert beth bordon married share little runs s...   \n",
              "5052178   failed new jersey inventor embarks career stan...   \n",
              "10071003  story family whose growth stunted family learn...   \n",
              "6946345   head german director fatih akin ’ story alcoho...   \n",
              "7357400   crustaces et coquillages fresh french comedy f...   \n",
              "9727601   gerrie richard rikkert robbie barry maaskantje...   \n",
              "1718474   redmond young guy cant find life uncle sam giv...   \n",
              "7860353   1920s ireland young doctor damien odonovan pre...   \n",
              "896390    two gangsters seek revenge state jail worker s...   \n",
              "746205    four year absence one time detective nick char...   \n",
              "9667539   11thcentury viking prince sails america find f...   \n",
              "10564840  young woman tries adjust freedom spends eight ...   \n",
              "10557849  man wrongfully imprisoned five years hears wif...   \n",
              "8523508   arizona late 1800s infamous outlaw ben wade vi...   \n",
              "6346518   set americas colonial period john fords advent...   \n",
              "7527671   lorna married jim year still hasnt satisfied s...   \n",
              "5415755   high school distant memory jim michelle gettin...   \n",
              "9667517   britain 1958 restless school bored life jim le...   \n",
              "7194451   flight los angeles new york oliver emily make ...   \n",
              "9428557   spending summer exotic beach two brothers fall...   \n",
              "\n",
              "                                    title  cos_similarities similar_to  \n",
              "10274539            Why Change Your Wife?          0.114926        527  \n",
              "5052178                    The Jimmy Show          0.107521        527  \n",
              "10071003                          Petunia          0.102834        527  \n",
              "6946345                           Head-On          0.101902        527  \n",
              "7357400               Cockles and Muscles          0.100265        527  \n",
              "9727601                    New Kids Nitro          0.156060       3175  \n",
              "1718474                Kicked in the Head          0.131503       3175  \n",
              "7860353   The Wind That Shakes the Barley          0.115236       3175  \n",
              "896390                           Sleepers          0.113337       3175  \n",
              "746205                       The Thin Man          0.109264       3175  \n",
              "9667539                      The Norseman          0.164749       3114  \n",
              "10564840                      Coming Home          0.144603       3114  \n",
              "10557849                   The Glass Cell          0.131953       3114  \n",
              "8523508                      3:10 to Yuma          0.128457       3114  \n",
              "6346518            Drums Along the Mohawk          0.123954       3114  \n",
              "7527671                             Lorna          0.160044       2770  \n",
              "5415755                  American Wedding          0.150007       2770  \n",
              "9667517                That'll Be The Day          0.149522       2770  \n",
              "7194451                   A Lot Like Love          0.124980       2770  \n",
              "9428557                      Crazed Fruit          0.119505       2770  "
            ]
          },
          "execution_count": 767,
          "metadata": {},
          "output_type": "execute_result"
        }
      ],
      "source": [
        "rec = pd.DataFrame(columns=['id', 'imdb_id', 'overview', 'title', 'cos_similarities', 'similar_to'])\n",
        "\n",
        "for key in simFilms:\n",
        "  rec = rec.append(simFilms[key])\n",
        "\n",
        "rec"
      ]
    },
    {
      "cell_type": "code",
      "execution_count": null,
      "metadata": {
        "id": "FscSmJc8X9_6"
      },
      "outputs": [],
      "source": [
        "def countRecomendation(userId, df):\n",
        "  myUserLikedFilms = movieAndRating[(movieAndRating['userId'] == userId) \\\n",
        "                                                 & (movieAndRating['rating'] >= 4.0)]\n",
        "\n",
        "  if len(myUserLikedFilms) < 5:\n",
        "    return pd.DataFrame()\n",
        "\n",
        "  myUserLikedFilms_Ids = myUserLikedFilms['id'].values\n",
        "\n",
        "  simFilms = {}\n",
        "\n",
        "  for id in myUserLikedFilms_Ids:\n",
        "    simFilms[id] = calculateSimilarFilms(df, id)\n",
        "\n",
        "  rec = pd.DataFrame(columns=['id', 'imdb_id', 'overview', 'title', 'cos_similarities', 'similar_to'])\n",
        "\n",
        "  for key in simFilms:\n",
        "    rec = rec.append(simFilms[key])\n",
        "\n",
        "  return rec"
      ]
    },
    {
      "cell_type": "code",
      "execution_count": null,
      "metadata": {
        "colab": {
          "base_uri": "https://localhost:8080/"
        },
        "id": "drMPl2zoZQkX",
        "outputId": "a0246a8c-b303-425d-9bc5-c6ff69ea52dd"
      },
      "outputs": [
        {
          "data": {
            "text/plain": [
              "200648"
            ]
          },
          "execution_count": 769,
          "metadata": {},
          "output_type": "execute_result"
        }
      ],
      "source": [
        "random_users = (ratings.groupby('userId')['rating'].count() < 50).reset_index()\n",
        "random_users = random_users[random_users['rating'] == True].sample(1).userId.values\n",
        "\n",
        "testUserId = random_users[0]\n",
        "testUserId"
      ]
    },
    {
      "cell_type": "code",
      "execution_count": null,
      "metadata": {
        "colab": {
          "base_uri": "https://localhost:8080/",
          "height": 1000
        },
        "id": "0b3XCujwYjsJ",
        "outputId": "ba0c9a37-bd80-4985-d55c-99cd08b114fd"
      },
      "outputs": [
        {
          "data": {
            "text/html": [
              "<div>\n",
              "<style scoped>\n",
              "    .dataframe tbody tr th:only-of-type {\n",
              "        vertical-align: middle;\n",
              "    }\n",
              "\n",
              "    .dataframe tbody tr th {\n",
              "        vertical-align: top;\n",
              "    }\n",
              "\n",
              "    .dataframe thead th {\n",
              "        text-align: right;\n",
              "    }\n",
              "</style>\n",
              "<table border=\"1\" class=\"dataframe\">\n",
              "  <thead>\n",
              "    <tr style=\"text-align: right;\">\n",
              "      <th></th>\n",
              "      <th>id</th>\n",
              "      <th>imdb_id</th>\n",
              "      <th>overview</th>\n",
              "      <th>title</th>\n",
              "      <th>cos_similarities</th>\n",
              "      <th>similar_to</th>\n",
              "    </tr>\n",
              "  </thead>\n",
              "  <tbody>\n",
              "    <tr>\n",
              "      <th>862556</th>\n",
              "      <td>562</td>\n",
              "      <td>tt0095016</td>\n",
              "      <td>nypd cop john mcclanes plan reconcile estrange...</td>\n",
              "      <td>Die Hard</td>\n",
              "      <td>0.164502</td>\n",
              "      <td>1573</td>\n",
              "    </tr>\n",
              "    <tr>\n",
              "      <th>4377504</th>\n",
              "      <td>2034</td>\n",
              "      <td>tt0139654</td>\n",
              "      <td>first day job narcotics officer rookie cop wor...</td>\n",
              "      <td>Training Day</td>\n",
              "      <td>0.121671</td>\n",
              "      <td>1573</td>\n",
              "    </tr>\n",
              "    <tr>\n",
              "      <th>86769</th>\n",
              "      <td>1572</td>\n",
              "      <td>tt0112864</td>\n",
              "      <td>new york detective john mcclane back kicking b...</td>\n",
              "      <td>Die Hard: With a Vengeance</td>\n",
              "      <td>0.109046</td>\n",
              "      <td>1573</td>\n",
              "    </tr>\n",
              "    <tr>\n",
              "      <th>9759132</th>\n",
              "      <td>81393</td>\n",
              "      <td>tt1846442</td>\n",
              "      <td>12 dates christmas romantic comedy follows kat...</td>\n",
              "      <td>12 Dates of Christmas</td>\n",
              "      <td>0.105863</td>\n",
              "      <td>1573</td>\n",
              "    </tr>\n",
              "    <tr>\n",
              "      <th>1555948</th>\n",
              "      <td>8845</td>\n",
              "      <td>tt0105690</td>\n",
              "      <td>actionpacked thriller takes place soontobedeco...</td>\n",
              "      <td>Under Siege</td>\n",
              "      <td>0.104488</td>\n",
              "      <td>1573</td>\n",
              "    </tr>\n",
              "    <tr>\n",
              "      <th>9364495</th>\n",
              "      <td>27769</td>\n",
              "      <td>tt0102960</td>\n",
              "      <td>based short story stephen king man family retu...</td>\n",
              "      <td>Sometimes They Come Back</td>\n",
              "      <td>0.125464</td>\n",
              "      <td>1552</td>\n",
              "    </tr>\n",
              "    <tr>\n",
              "      <th>5521950</th>\n",
              "      <td>321</td>\n",
              "      <td>tt0330602</td>\n",
              "      <td>sweet comic film italian man comes closet affe...</td>\n",
              "      <td>Mambo Italiano</td>\n",
              "      <td>0.123048</td>\n",
              "      <td>1552</td>\n",
              "    </tr>\n",
              "    <tr>\n",
              "      <th>10071003</th>\n",
              "      <td>142106</td>\n",
              "      <td>tt1826813</td>\n",
              "      <td>story family whose growth stunted family learn...</td>\n",
              "      <td>Petunia</td>\n",
              "      <td>0.109314</td>\n",
              "      <td>1552</td>\n",
              "    </tr>\n",
              "    <tr>\n",
              "      <th>5234522</th>\n",
              "      <td>111815</td>\n",
              "      <td>tt0100200</td>\n",
              "      <td>five member family father conservative traditi...</td>\n",
              "      <td>Mr &amp; Mrs Bridge</td>\n",
              "      <td>0.107658</td>\n",
              "      <td>1552</td>\n",
              "    </tr>\n",
              "    <tr>\n",
              "      <th>3102173</th>\n",
              "      <td>5486</td>\n",
              "      <td>tt0067656</td>\n",
              "      <td>elderly heiress killed husband wants control f...</td>\n",
              "      <td>A Bay of Blood</td>\n",
              "      <td>0.105623</td>\n",
              "      <td>1552</td>\n",
              "    </tr>\n",
              "    <tr>\n",
              "      <th>5030396</th>\n",
              "      <td>152023</td>\n",
              "      <td>tt0201020</td>\n",
              "      <td>close friendship two young women different rac...</td>\n",
              "      <td>The Rising Place</td>\n",
              "      <td>0.120631</td>\n",
              "      <td>590</td>\n",
              "    </tr>\n",
              "    <tr>\n",
              "      <th>8858651</th>\n",
              "      <td>8892</td>\n",
              "      <td>tt0993789</td>\n",
              "      <td>regal matriarch falls ill troubled vuillard fa...</td>\n",
              "      <td>A Christmas Tale</td>\n",
              "      <td>0.117923</td>\n",
              "      <td>590</td>\n",
              "    </tr>\n",
              "    <tr>\n",
              "      <th>2621799</th>\n",
              "      <td>140519</td>\n",
              "      <td>tt0188052</td>\n",
              "      <td>mascara story three different women rediscover...</td>\n",
              "      <td>Mascara</td>\n",
              "      <td>0.114326</td>\n",
              "      <td>590</td>\n",
              "    </tr>\n",
              "    <tr>\n",
              "      <th>10302180</th>\n",
              "      <td>129518</td>\n",
              "      <td>tt0460443</td>\n",
              "      <td>walls could speak tell us stories based name n...</td>\n",
              "      <td>Island Guests</td>\n",
              "      <td>0.110914</td>\n",
              "      <td>590</td>\n",
              "    </tr>\n",
              "    <tr>\n",
              "      <th>9630972</th>\n",
              "      <td>2180</td>\n",
              "      <td>tt0785002</td>\n",
              "      <td>two different women 40s grownup children ready...</td>\n",
              "      <td>Heartbreak Hotel</td>\n",
              "      <td>0.110509</td>\n",
              "      <td>590</td>\n",
              "    </tr>\n",
              "    <tr>\n",
              "      <th>3320750</th>\n",
              "      <td>1396</td>\n",
              "      <td>tt0072443</td>\n",
              "      <td>dying man forties remembers past childhood mot...</td>\n",
              "      <td>Mirror</td>\n",
              "      <td>0.162019</td>\n",
              "      <td>1954</td>\n",
              "    </tr>\n",
              "    <tr>\n",
              "      <th>1849152</th>\n",
              "      <td>2666</td>\n",
              "      <td>tt0118929</td>\n",
              "      <td>man struggles memories past including wife rem...</td>\n",
              "      <td>Dark City</td>\n",
              "      <td>0.136190</td>\n",
              "      <td>1954</td>\n",
              "    </tr>\n",
              "    <tr>\n",
              "      <th>10557833</th>\n",
              "      <td>83435</td>\n",
              "      <td>tt0184823</td>\n",
              "      <td>little girl lost moscow hits road making fun i...</td>\n",
              "      <td>The Foundling</td>\n",
              "      <td>0.124329</td>\n",
              "      <td>1954</td>\n",
              "    </tr>\n",
              "    <tr>\n",
              "      <th>9685429</th>\n",
              "      <td>85547</td>\n",
              "      <td>tt1349457</td>\n",
              "      <td>based novel albert camus working died follow j...</td>\n",
              "      <td>The First Man</td>\n",
              "      <td>0.116563</td>\n",
              "      <td>1954</td>\n",
              "    </tr>\n",
              "    <tr>\n",
              "      <th>10277612</th>\n",
              "      <td>151062</td>\n",
              "      <td>tt0104787</td>\n",
              "      <td>young woman frontier marries meek farmer annoy...</td>\n",
              "      <td>Mad at the Moon</td>\n",
              "      <td>0.116168</td>\n",
              "      <td>1954</td>\n",
              "    </tr>\n",
              "    <tr>\n",
              "      <th>6539242</th>\n",
              "      <td>60760</td>\n",
              "      <td>tt0093505</td>\n",
              "      <td>deadly game cat mouse roland wolf writing book...</td>\n",
              "      <td>Masques</td>\n",
              "      <td>0.118388</td>\n",
              "      <td>1917</td>\n",
              "    </tr>\n",
              "    <tr>\n",
              "      <th>10490158</th>\n",
              "      <td>1848</td>\n",
              "      <td>tt0145400</td>\n",
              "      <td>private eye philip marlowe bride move desert t...</td>\n",
              "      <td>Poodle Springs</td>\n",
              "      <td>0.100159</td>\n",
              "      <td>1917</td>\n",
              "    </tr>\n",
              "    <tr>\n",
              "      <th>728235</th>\n",
              "      <td>4174</td>\n",
              "      <td>tt0038109</td>\n",
              "      <td>dr anthony edwardes arrives vermont mental hos...</td>\n",
              "      <td>Spellbound</td>\n",
              "      <td>0.096510</td>\n",
              "      <td>1917</td>\n",
              "    </tr>\n",
              "    <tr>\n",
              "      <th>9722033</th>\n",
              "      <td>3576</td>\n",
              "      <td>tt0034570</td>\n",
              "      <td>dr gillespie called investigate young man suff...</td>\n",
              "      <td>Calling Dr. Gillespie</td>\n",
              "      <td>0.093669</td>\n",
              "      <td>1917</td>\n",
              "    </tr>\n",
              "    <tr>\n",
              "      <th>1312807</th>\n",
              "      <td>910</td>\n",
              "      <td>tt0038355</td>\n",
              "      <td>private detective philip marlowe hired rich fa...</td>\n",
              "      <td>The Big Sleep</td>\n",
              "      <td>0.093358</td>\n",
              "      <td>1917</td>\n",
              "    </tr>\n",
              "    <tr>\n",
              "      <th>9839384</th>\n",
              "      <td>167956</td>\n",
              "      <td>tt2705402</td>\n",
              "      <td>jacob tells jesus son lazarus dead jesus goes ...</td>\n",
              "      <td>Fist of Jesus</td>\n",
              "      <td>0.129437</td>\n",
              "      <td>2447</td>\n",
              "    </tr>\n",
              "    <tr>\n",
              "      <th>9495136</th>\n",
              "      <td>121598</td>\n",
              "      <td>tt1714866</td>\n",
              "      <td>canadianbrith film adaptation salman rushdies ...</td>\n",
              "      <td>Midnight's Children</td>\n",
              "      <td>0.103378</td>\n",
              "      <td>2447</td>\n",
              "    </tr>\n",
              "    <tr>\n",
              "      <th>8647440</th>\n",
              "      <td>64942</td>\n",
              "      <td>tt0425236</td>\n",
              "      <td>following shooting film life jesus called bloo...</td>\n",
              "      <td>Mary</td>\n",
              "      <td>0.096636</td>\n",
              "      <td>2447</td>\n",
              "    </tr>\n",
              "    <tr>\n",
              "      <th>10563135</th>\n",
              "      <td>2331</td>\n",
              "      <td>tt0199232</td>\n",
              "      <td>film notable presenting human jesus compared s...</td>\n",
              "      <td>Jesus</td>\n",
              "      <td>0.091658</td>\n",
              "      <td>2447</td>\n",
              "    </tr>\n",
              "    <tr>\n",
              "      <th>9667655</th>\n",
              "      <td>130398</td>\n",
              "      <td>tt0031121</td>\n",
              "      <td>mary hale singer jimmy seymour pianistcomposer...</td>\n",
              "      <td>Broadway Serenade</td>\n",
              "      <td>0.088516</td>\n",
              "      <td>2447</td>\n",
              "    </tr>\n",
              "    <tr>\n",
              "      <th>8024658</th>\n",
              "      <td>1646</td>\n",
              "      <td>tt0463998</td>\n",
              "      <td>young teacher inspires class atrisk students l...</td>\n",
              "      <td>Freedom Writers</td>\n",
              "      <td>0.258152</td>\n",
              "      <td>1259</td>\n",
              "    </tr>\n",
              "    <tr>\n",
              "      <th>6939654</th>\n",
              "      <td>32250</td>\n",
              "      <td>tt0330500</td>\n",
              "      <td>teacher visits house one students boy goes mis...</td>\n",
              "      <td>Ju-on: The Curse</td>\n",
              "      <td>0.222348</td>\n",
              "      <td>1259</td>\n",
              "    </tr>\n",
              "    <tr>\n",
              "      <th>8165708</th>\n",
              "      <td>6443</td>\n",
              "      <td>tt0386862</td>\n",
              "      <td>awkward idealistic high school teacher begins ...</td>\n",
              "      <td>The Forest for the Trees</td>\n",
              "      <td>0.176236</td>\n",
              "      <td>1259</td>\n",
              "    </tr>\n",
              "    <tr>\n",
              "      <th>6962376</th>\n",
              "      <td>5528</td>\n",
              "      <td>tt0372824</td>\n",
              "      <td>set 1940s france new teacher school disruptive...</td>\n",
              "      <td>The Chorus</td>\n",
              "      <td>0.169138</td>\n",
              "      <td>1259</td>\n",
              "    </tr>\n",
              "    <tr>\n",
              "      <th>5600314</th>\n",
              "      <td>1807</td>\n",
              "      <td>tt0363589</td>\n",
              "      <td>several ordinary high school students go daily...</td>\n",
              "      <td>Elephant</td>\n",
              "      <td>0.155627</td>\n",
              "      <td>1259</td>\n",
              "    </tr>\n",
              "    <tr>\n",
              "      <th>9535647</th>\n",
              "      <td>458</td>\n",
              "      <td>tt0049762</td>\n",
              "      <td>sissi empress austria attempts learn etiquette...</td>\n",
              "      <td>Sissi: The Young Empress</td>\n",
              "      <td>0.279633</td>\n",
              "      <td>457</td>\n",
              "    </tr>\n",
              "    <tr>\n",
              "      <th>10236604</th>\n",
              "      <td>157779</td>\n",
              "      <td>tt0203090</td>\n",
              "      <td>rare italian action adventure tells story brok...</td>\n",
              "      <td>Skin 'em Alive</td>\n",
              "      <td>0.245835</td>\n",
              "      <td>457</td>\n",
              "    </tr>\n",
              "    <tr>\n",
              "      <th>10033726</th>\n",
              "      <td>4398</td>\n",
              "      <td>tt0498525</td>\n",
              "      <td>plot concerns yeti makes pact devil kidnap bea...</td>\n",
              "      <td>Lissi and the Wild Emperor</td>\n",
              "      <td>0.206160</td>\n",
              "      <td>457</td>\n",
              "    </tr>\n",
              "    <tr>\n",
              "      <th>10105534</th>\n",
              "      <td>459</td>\n",
              "      <td>tt0050974</td>\n",
              "      <td>wonderful time hungary sissi falls extremely i...</td>\n",
              "      <td>Sissi: The Fateful Years of an Empress</td>\n",
              "      <td>0.190846</td>\n",
              "      <td>457</td>\n",
              "    </tr>\n",
              "    <tr>\n",
              "      <th>9808042</th>\n",
              "      <td>67298</td>\n",
              "      <td>tt0073298</td>\n",
              "      <td>sendup bawdy life romantic composerpiano virtu...</td>\n",
              "      <td>Lisztomania</td>\n",
              "      <td>0.133848</td>\n",
              "      <td>457</td>\n",
              "    </tr>\n",
              "  </tbody>\n",
              "</table>\n",
              "</div>"
            ],
            "text/plain": [
              "              id    imdb_id  \\\n",
              "862556       562  tt0095016   \n",
              "4377504     2034  tt0139654   \n",
              "86769       1572  tt0112864   \n",
              "9759132    81393  tt1846442   \n",
              "1555948     8845  tt0105690   \n",
              "9364495    27769  tt0102960   \n",
              "5521950      321  tt0330602   \n",
              "10071003  142106  tt1826813   \n",
              "5234522   111815  tt0100200   \n",
              "3102173     5486  tt0067656   \n",
              "5030396   152023  tt0201020   \n",
              "8858651     8892  tt0993789   \n",
              "2621799   140519  tt0188052   \n",
              "10302180  129518  tt0460443   \n",
              "9630972     2180  tt0785002   \n",
              "3320750     1396  tt0072443   \n",
              "1849152     2666  tt0118929   \n",
              "10557833   83435  tt0184823   \n",
              "9685429    85547  tt1349457   \n",
              "10277612  151062  tt0104787   \n",
              "6539242    60760  tt0093505   \n",
              "10490158    1848  tt0145400   \n",
              "728235      4174  tt0038109   \n",
              "9722033     3576  tt0034570   \n",
              "1312807      910  tt0038355   \n",
              "9839384   167956  tt2705402   \n",
              "9495136   121598  tt1714866   \n",
              "8647440    64942  tt0425236   \n",
              "10563135    2331  tt0199232   \n",
              "9667655   130398  tt0031121   \n",
              "8024658     1646  tt0463998   \n",
              "6939654    32250  tt0330500   \n",
              "8165708     6443  tt0386862   \n",
              "6962376     5528  tt0372824   \n",
              "5600314     1807  tt0363589   \n",
              "9535647      458  tt0049762   \n",
              "10236604  157779  tt0203090   \n",
              "10033726    4398  tt0498525   \n",
              "10105534     459  tt0050974   \n",
              "9808042    67298  tt0073298   \n",
              "\n",
              "                                                   overview  \\\n",
              "862556    nypd cop john mcclanes plan reconcile estrange...   \n",
              "4377504   first day job narcotics officer rookie cop wor...   \n",
              "86769     new york detective john mcclane back kicking b...   \n",
              "9759132   12 dates christmas romantic comedy follows kat...   \n",
              "1555948   actionpacked thriller takes place soontobedeco...   \n",
              "9364495   based short story stephen king man family retu...   \n",
              "5521950   sweet comic film italian man comes closet affe...   \n",
              "10071003  story family whose growth stunted family learn...   \n",
              "5234522   five member family father conservative traditi...   \n",
              "3102173   elderly heiress killed husband wants control f...   \n",
              "5030396   close friendship two young women different rac...   \n",
              "8858651   regal matriarch falls ill troubled vuillard fa...   \n",
              "2621799   mascara story three different women rediscover...   \n",
              "10302180  walls could speak tell us stories based name n...   \n",
              "9630972   two different women 40s grownup children ready...   \n",
              "3320750   dying man forties remembers past childhood mot...   \n",
              "1849152   man struggles memories past including wife rem...   \n",
              "10557833  little girl lost moscow hits road making fun i...   \n",
              "9685429   based novel albert camus working died follow j...   \n",
              "10277612  young woman frontier marries meek farmer annoy...   \n",
              "6539242   deadly game cat mouse roland wolf writing book...   \n",
              "10490158  private eye philip marlowe bride move desert t...   \n",
              "728235    dr anthony edwardes arrives vermont mental hos...   \n",
              "9722033   dr gillespie called investigate young man suff...   \n",
              "1312807   private detective philip marlowe hired rich fa...   \n",
              "9839384   jacob tells jesus son lazarus dead jesus goes ...   \n",
              "9495136   canadianbrith film adaptation salman rushdies ...   \n",
              "8647440   following shooting film life jesus called bloo...   \n",
              "10563135  film notable presenting human jesus compared s...   \n",
              "9667655   mary hale singer jimmy seymour pianistcomposer...   \n",
              "8024658   young teacher inspires class atrisk students l...   \n",
              "6939654   teacher visits house one students boy goes mis...   \n",
              "8165708   awkward idealistic high school teacher begins ...   \n",
              "6962376   set 1940s france new teacher school disruptive...   \n",
              "5600314   several ordinary high school students go daily...   \n",
              "9535647   sissi empress austria attempts learn etiquette...   \n",
              "10236604  rare italian action adventure tells story brok...   \n",
              "10033726  plot concerns yeti makes pact devil kidnap bea...   \n",
              "10105534  wonderful time hungary sissi falls extremely i...   \n",
              "9808042   sendup bawdy life romantic composerpiano virtu...   \n",
              "\n",
              "                                           title  cos_similarities similar_to  \n",
              "862556                                  Die Hard          0.164502       1573  \n",
              "4377504                             Training Day          0.121671       1573  \n",
              "86769                 Die Hard: With a Vengeance          0.109046       1573  \n",
              "9759132                    12 Dates of Christmas          0.105863       1573  \n",
              "1555948                              Under Siege          0.104488       1573  \n",
              "9364495                 Sometimes They Come Back          0.125464       1552  \n",
              "5521950                           Mambo Italiano          0.123048       1552  \n",
              "10071003                                 Petunia          0.109314       1552  \n",
              "5234522                          Mr & Mrs Bridge          0.107658       1552  \n",
              "3102173                           A Bay of Blood          0.105623       1552  \n",
              "5030396                         The Rising Place          0.120631        590  \n",
              "8858651                         A Christmas Tale          0.117923        590  \n",
              "2621799                                  Mascara          0.114326        590  \n",
              "10302180                           Island Guests          0.110914        590  \n",
              "9630972                         Heartbreak Hotel          0.110509        590  \n",
              "3320750                                   Mirror          0.162019       1954  \n",
              "1849152                                Dark City          0.136190       1954  \n",
              "10557833                           The Foundling          0.124329       1954  \n",
              "9685429                            The First Man          0.116563       1954  \n",
              "10277612                         Mad at the Moon          0.116168       1954  \n",
              "6539242                                  Masques          0.118388       1917  \n",
              "10490158                          Poodle Springs          0.100159       1917  \n",
              "728235                                Spellbound          0.096510       1917  \n",
              "9722033                    Calling Dr. Gillespie          0.093669       1917  \n",
              "1312807                            The Big Sleep          0.093358       1917  \n",
              "9839384                            Fist of Jesus          0.129437       2447  \n",
              "9495136                      Midnight's Children          0.103378       2447  \n",
              "8647440                                     Mary          0.096636       2447  \n",
              "10563135                                   Jesus          0.091658       2447  \n",
              "9667655                        Broadway Serenade          0.088516       2447  \n",
              "8024658                          Freedom Writers          0.258152       1259  \n",
              "6939654                         Ju-on: The Curse          0.222348       1259  \n",
              "8165708                 The Forest for the Trees          0.176236       1259  \n",
              "6962376                               The Chorus          0.169138       1259  \n",
              "5600314                                 Elephant          0.155627       1259  \n",
              "9535647                 Sissi: The Young Empress          0.279633        457  \n",
              "10236604                          Skin 'em Alive          0.245835        457  \n",
              "10033726              Lissi and the Wild Emperor          0.206160        457  \n",
              "10105534  Sissi: The Fateful Years of an Empress          0.190846        457  \n",
              "9808042                              Lisztomania          0.133848        457  "
            ]
          },
          "execution_count": 770,
          "metadata": {},
          "output_type": "execute_result"
        }
      ],
      "source": [
        "rec = countRecomendation(testUserId, test)\n",
        "rec"
      ]
    },
    {
      "cell_type": "markdown",
      "metadata": {
        "id": "A8vz0nuWOq-N"
      },
      "source": [
        "Оценка качества"
      ]
    },
    {
      "cell_type": "code",
      "execution_count": null,
      "metadata": {
        "id": "KW3DVWDyR1y-"
      },
      "outputs": [],
      "source": [
        "rec['cos_similarities_inv'] = 1 - rec['cos_similarities']\n",
        "rec"
      ]
    },
    {
      "cell_type": "code",
      "execution_count": null,
      "metadata": {
        "id": "v9dYrmZEVeWM"
      },
      "outputs": [],
      "source": [
        "grouped_cos_sim_inv = rec.groupby(by=['similar_to'])['cos_similarities_inv'] \\\n",
        "    .apply(lambda x: sorted(list(x), reverse=True)) \\\n",
        "    .to_dict()\n",
        "\n",
        "grouped_cos_sim_inv"
      ]
    },
    {
      "cell_type": "code",
      "execution_count": null,
      "metadata": {
        "colab": {
          "base_uri": "https://localhost:8080/"
        },
        "id": "STFzNg3FVorF",
        "outputId": "15d7fcb2-656f-4e5f-e663-d935daf5762f"
      },
      "outputs": [
        {
          "data": {
            "text/plain": [
              "{457: 0.7887356040651421,\n",
              " 590: 0.8851392824280835,\n",
              " 1259: 0.803699536331363,\n",
              " 1552: 0.8857785235499559,\n",
              " 1573: 0.8788863277454869,\n",
              " 1917: 0.8995835921783752,\n",
              " 1954: 0.8689463328226911,\n",
              " 2447: 0.8980748738137834}"
            ]
          },
          "execution_count": 773,
          "metadata": {},
          "output_type": "execute_result"
        }
      ],
      "source": [
        "precision = {\n",
        "    k: sum(grouped_cos_sim_inv[k]) / len(grouped_cos_sim_inv[k])\n",
        "    for k in grouped_cos_sim_inv\n",
        "}\n",
        "\n",
        "precision"
      ]
    },
    {
      "cell_type": "code",
      "execution_count": null,
      "metadata": {
        "id": "6YTTQZbZVwcK"
      },
      "outputs": [],
      "source": [
        "def ap_calc(v):\n",
        "    # k = 147\n",
        "    # v = [0.6765093902770655, 0.6805450468328779, 0.6843556880131448]\n",
        "\n",
        "    numerator = 0  # числитель\n",
        "    denominator = sum(v)  # знаменатель\n",
        "\n",
        "    for i in range(len(v)):\n",
        "        numerator += v[i] * (sum(v[:i + 1]) / len(v[:i + 1]))\n",
        "\n",
        "    return numerator / denominator\n",
        "\n",
        "ap = {\n",
        "    k: ap_calc(grouped_cos_sim_inv[k])\n",
        "    for k in grouped_cos_sim_inv\n",
        "}\n",
        "\n",
        "ap"
      ]
    },
    {
      "cell_type": "code",
      "execution_count": null,
      "metadata": {
        "colab": {
          "base_uri": "https://localhost:8080/"
        },
        "id": "NzcCf63mV04t",
        "outputId": "4316517e-cae1-4df5-83c8-947c47371d9c"
      },
      "outputs": [
        {
          "name": "stdout",
          "output_type": "stream",
          "text": [
            "Среднее значение для AP по фильмам:\n"
          ]
        },
        {
          "data": {
            "text/plain": [
              "0.8766809002198552"
            ]
          },
          "execution_count": 775,
          "metadata": {},
          "output_type": "execute_result"
        }
      ],
      "source": [
        "movies_ap = ap.values()\n",
        "print('Среднее значение для AP по фильмам:')\n",
        "sum(movies_ap) / len(movies_ap)"
      ]
    },
    {
      "cell_type": "code",
      "execution_count": null,
      "metadata": {
        "id": "Qxn6NV9pV6u4"
      },
      "outputs": [],
      "source": [
        "sorted_recommendations = rec.copy()\n",
        "sorted_recommendations = sorted_recommendations.sort_values(by='cos_similarities_inv', ascending=False)\n",
        "\n",
        "sorted_recommendations"
      ]
    },
    {
      "cell_type": "code",
      "execution_count": null,
      "metadata": {
        "id": "snfz3eY1WD49"
      },
      "outputs": [],
      "source": [
        "def calc_precision_ap(series, k):\n",
        "    precision_k = sum(series.iloc[:k]) / k\n",
        "    ap_k = ap_calc(list(series.iloc[:k]))\n",
        "\n",
        "    print(f'Precision@K ({k = }):')\n",
        "    print(precision_k)\n",
        "    print()\n",
        "    print(f'AP@k ({k = }):')\n",
        "    print(ap_k)\n",
        "    print('-----------------')\n",
        "\n",
        "    return precision_k, ap_k"
      ]
    },
    {
      "cell_type": "code",
      "execution_count": null,
      "metadata": {
        "colab": {
          "base_uri": "https://localhost:8080/"
        },
        "id": "WN7tBmdhWiKp",
        "outputId": "48572802-b0ec-4428-e7e9-4f1afc381742"
      },
      "outputs": [
        {
          "data": {
            "text/plain": [
              "array([ 51083,  25732, 104287, 226945,  65923, 102562, 231590,  65895,\n",
              "        26381,  10172])"
            ]
          },
          "execution_count": 782,
          "metadata": {},
          "output_type": "execute_result"
        }
      ],
      "source": [
        "random_users = (ratings.groupby('userId')['rating'].count() < 50).reset_index()\n",
        "random_users = random_users[random_users['rating'] == True].sample(10).userId.values\n",
        "\n",
        "random_users"
      ]
    },
    {
      "cell_type": "code",
      "execution_count": null,
      "metadata": {
        "id": "h2qWyXlOXT22"
      },
      "outputs": [],
      "source": [
        "k = 10\n",
        "total_ap_sum = 0\n",
        "recommendation = pd.DataFrame()\n",
        "\n",
        "for userId in random_users:\n",
        "    userRec = countRecomendation(userId, test)\n",
        "    if userRec.empty:\n",
        "      indx = np.where(random_users == userId)[0][0]\n",
        "      random_users = np.delete(random_users, indx)\n",
        "      continue\n",
        "\n",
        "    recommendation = recommendation.append(userRec)\n",
        "    recommendation['cos_similarities_inv'] = 1 - recommendation['cos_similarities']\n",
        "    recommendation = recommendation.sort_values(by='cos_similarities_inv', ascending=False)\n",
        "    _, ap = calc_precision_ap(recommendation['cos_similarities_inv'], k)\n",
        "    total_ap_sum += ap"
      ]
    }
  ],
  "metadata": {
    "colab": {
      "provenance": [],
      "toc_visible": true
    },
    "kernelspec": {
      "display_name": "Python 3",
      "language": "python",
      "name": "python3"
    },
    "language_info": {
      "codemirror_mode": {
        "name": "ipython",
        "version": 3
      },
      "file_extension": ".py",
      "mimetype": "text/x-python",
      "name": "python",
      "nbconvert_exporter": "python",
      "pygments_lexer": "ipython3",
      "version": "3.8.5"
    }
  },
  "nbformat": 4,
  "nbformat_minor": 0
}
